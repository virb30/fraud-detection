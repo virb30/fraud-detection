{
  "nbformat": 4,
  "nbformat_minor": 0,
  "metadata": {
    "colab": {
      "name": "Projeto - Detecção de Fraude em Cartões de Crédito.ipynb",
      "provenance": [],
      "collapsed_sections": [],
      "include_colab_link": true
    },
    "kernelspec": {
      "name": "python3",
      "display_name": "Python 3"
    }
  },
  "cells": [
    {
      "cell_type": "markdown",
      "metadata": {
        "id": "view-in-github",
        "colab_type": "text"
      },
      "source": [
        "<a href=\"https://colab.research.google.com/github/virb30/fraud-detection/blob/main/Projeto_Detec%C3%A7%C3%A3o_de_Fraude_em_Cart%C3%B5es_de_Cr%C3%A9dito.ipynb\" target=\"_parent\"><img src=\"https://colab.research.google.com/assets/colab-badge.svg\" alt=\"Open In Colab\"/></a>"
      ]
    },
    {
      "cell_type": "markdown",
      "metadata": {
        "id": "sC2BFMOKN1M7"
      },
      "source": [
        "---\n",
        "<img alt=\"Colaboratory logo\" width=\"15%\" src=\"https://raw.githubusercontent.com/carlosfab/escola-data-science/master/img/novo_logo_bg_claro.png\">\n",
        "\n",
        "#### **Data Science na Prática 3.0**\n",
        "*by [sigmoidal.ai](https://sigmoidal.ai)*  \n",
        "\n",
        "---"
      ]
    },
    {
      "cell_type": "markdown",
      "metadata": {
        "id": "IR56trFcPcC1"
      },
      "source": [
        "# Detecção de Fraudes em Cartões de Crédito\n",
        "\n",
        "Neste projeto, iremos abordar o problema das fraudes em cartões de crédito, uma das principais preocupações das instituições financeiras como bancos e *fintechs*. Apenas no Brasil, cerca de 12,1 milhões de pessoas já foram vítimas de algum tipo de fraude financeira no último ano. Traduzindo em valores, os golpes financeiros ultrapassaram a cifra de R$ 1,8 bilhão de prejuízo por ano para os últimos 12 meses.\n",
        "\n",
        "<p align=center>\n",
        "<img src=\"https://images.unsplash.com/photo-1592772874383-d08932d29db7?ixid=MnwxMjA3fDB8MHxwaG90by1wYWdlfHx8fGVufDB8fHx8&ixlib=rb-1.2.1&auto=format&fit=crop&w=699&q=80\" width=\"60%\"></p>\n",
        "\n",
        "Dentre essas fraudes, aquelas envolvendo cartões de crédito são de grande relevância uma vez que a sua não-detecção acarretará em prejuízos consideráveis, tanto para o consumidor quanto para a instituição financeira.\n",
        "\n",
        "Um outro fator a ser considerado é a quantidade de falsos positivos, ou seja, aquelas vezes em que você tentou fazer uma compra e teve seu cartão bloqueado preventivamente - o que provavelmente gerou estresse e constrangimento.\n",
        "\n",
        "Ainda que se queira reduzir a quantidade de falsos positivos, é preferível (tanto para instituição financeira quanto para o consumidor) que hajam mais falsos positivos do que falsos negativos.\n",
        "\n",
        "Por todos esses motivos, o investimento na área de detecção de fraudes por meio de Inteligência Artificial vem crescendo a cada ano, representando uma grande oportunidade em *Data Science*. \n",
        "\n",
        "Dispondo de grandes volumes de dados como base histórica, um algoritmo de machine learning apenas um pouco melhor que os anteriores já representa uma economia de milhões de Reais. E esse é o desafio, aprimorar cada vez mais o uso de algoritmos visando inibir ou evitar transações fraudulentas."
      ]
    },
    {
      "cell_type": "markdown",
      "metadata": {
        "id": "0HVmpIxQWT4Y"
      },
      "source": [
        "## Importando os Dados\n",
        "\n",
        "Os dados que usaremos neste projeto foram disponibilizados por algumas empresas européias de cartão de crédito. O *dataset* representa as operações financeiras que aconteceram no período de dois dias, onde foram classificadas 492 fraudes em meio a quase 290 mil transações.\n",
        "\n",
        "Como você pode notar, este é um conjunto de dados extremamente desbalanceado, onde as fraudes representam apenas 0,17% do total.\n",
        "\n",
        "Outro detalhe interessante é que as *features* são todas numéricas, e foram descaracterizadas (por problemas ligados à privacidade e segurança). Assim, os nomes das colunas são representados por $[V1, V2, V3 \\dots, V28]$ \n",
        "\n",
        "<p align=center>\n",
        "<img src=\"https://images.unsplash.com/photo-1620714223084-8fcacc6dfd8d?ixid=MnwxMjA3fDB8MHxwaG90by1wYWdlfHx8fGVufDB8fHx8&ixlib=rb-1.2.1&auto=format&fit=crop&w=1051&q=80\" width=\"50%\"></p>\n",
        "\n",
        "[Na página original dos dados](https://www.kaggle.com/mlg-ulb/creditcardfraud), também é informado que as variáveis passaram por uma transformação conhecida como Análise de Componentes Principais (*Principal Component Analysis* - PCA).\n",
        "\n",
        "A PCA permite a redução da dimensionalidade enquanto mantém o maior número possível de informações. Para conseguir isso, o algoritmo encontra um conjunto novo de recursos - os chamados **componentes**.\n",
        "\n",
        "Esses componentes são em número menor or igual às variáveis originais. No caso deste projeto, os componentes achados pela transformação da PCA são as próprias colunas $[V1, V2, V3 \\dots, V28]$.\n",
        "\n",
        "O objetivo desse projeto é comparar dois modelos de Machine Learning utilizados para classificação e verificar qual deles se comporta melhor e em qual cenário. Também iremos comparar o desempenho do mesmo modelo treinado com os mesmos dados balanceados de maneira diferente entre si, para verificar qual técnica é melhor aplicada a determinado modelo nesse contexto."
      ]
    },
    {
      "cell_type": "code",
      "metadata": {
        "id": "lG8Qyq6wXS36"
      },
      "source": [
        "#@title\n",
        "# suprimir os warnings\n",
        "from warnings import simplefilter\n",
        "simplefilter(action='ignore', category=FutureWarning)"
      ],
      "execution_count": 1,
      "outputs": []
    },
    {
      "cell_type": "code",
      "metadata": {
        "id": "oQ4bNy7udtEE"
      },
      "source": [
        "# importar os pacotes necessários\n",
        "import pandas as pd\n",
        "import seaborn as sns\n",
        "import matplotlib.pyplot as plt\n",
        "import numpy as np\n",
        "\n",
        "%matplotlib inline\n",
        "\n",
        "sns.set_style('dark')"
      ],
      "execution_count": 2,
      "outputs": []
    },
    {
      "cell_type": "markdown",
      "metadata": {
        "id": "g5XDTWW5LRVe"
      },
      "source": [
        "Para facilitar a aquisição dos dados, criei um *link* com acesso direto ao `csv`. Com isso, basta importar o conjunto de dados usando o método `pd.read_csv()`."
      ]
    },
    {
      "cell_type": "code",
      "metadata": {
        "id": "4NxUOfDOj2j8",
        "colab": {
          "base_uri": "https://localhost:8080/"
        },
        "outputId": "aab76b54-6cbc-44b8-bc1c-4d9581b7361f"
      },
      "source": [
        "file_path = \"https://www.dropbox.com/s/7z9o7tgit89ihbn/creditcard.csv?dl=1\"\n",
        "# importar os dados para um dataframe\n",
        "df = pd.read_csv(file_path)\n",
        "\n",
        "# verificando dimensões do dataset\n",
        "print(f\"Dimensões do dataset original:\\t{df.shape}\")"
      ],
      "execution_count": 3,
      "outputs": [
        {
          "output_type": "stream",
          "name": "stdout",
          "text": [
            "Dimensões do dataset original:\t(284807, 31)\n"
          ]
        }
      ]
    },
    {
      "cell_type": "markdown",
      "metadata": {
        "id": "7nF_Dhd81Cvq"
      },
      "source": [
        "Com os dados importados para dentro de uma estrutura *Dataframe* - e não havendo a necessidade de mais nenhum ajuste ou configuração nesta etapa, pode-se iniciar uma análise exploratória dos dados a fim de preparar um modelo de *Machine Learning*.\n",
        "\n",
        "Antes de partirmos para a construção do nosso modelo, como o modelo CRISP-DM sugere, vamos começar compreendendo nossos dados. Para isso, vamos à Análise Exploratória:"
      ]
    },
    {
      "cell_type": "markdown",
      "metadata": {
        "id": "q47L43TJ4XTk"
      },
      "source": [
        "## Análise Exploratória\n",
        "\n",
        "Vamos começar nossa análise visualizando as 5 primeiras e 5 últimas entradas do *dataset*\n"
      ]
    },
    {
      "cell_type": "code",
      "metadata": {
        "colab": {
          "base_uri": "https://localhost:8080/",
          "height": 224
        },
        "id": "mohg_rAK4iNj",
        "outputId": "d4f66f82-67f6-4501-ce44-231158fd3e88"
      },
      "source": [
        "# ver primeiras entradas do dataset\n",
        "df.head()"
      ],
      "execution_count": 4,
      "outputs": [
        {
          "output_type": "execute_result",
          "data": {
            "text/html": [
              "<div>\n",
              "<style scoped>\n",
              "    .dataframe tbody tr th:only-of-type {\n",
              "        vertical-align: middle;\n",
              "    }\n",
              "\n",
              "    .dataframe tbody tr th {\n",
              "        vertical-align: top;\n",
              "    }\n",
              "\n",
              "    .dataframe thead th {\n",
              "        text-align: right;\n",
              "    }\n",
              "</style>\n",
              "<table border=\"1\" class=\"dataframe\">\n",
              "  <thead>\n",
              "    <tr style=\"text-align: right;\">\n",
              "      <th></th>\n",
              "      <th>Time</th>\n",
              "      <th>V1</th>\n",
              "      <th>V2</th>\n",
              "      <th>V3</th>\n",
              "      <th>V4</th>\n",
              "      <th>V5</th>\n",
              "      <th>V6</th>\n",
              "      <th>V7</th>\n",
              "      <th>V8</th>\n",
              "      <th>V9</th>\n",
              "      <th>V10</th>\n",
              "      <th>V11</th>\n",
              "      <th>V12</th>\n",
              "      <th>V13</th>\n",
              "      <th>V14</th>\n",
              "      <th>V15</th>\n",
              "      <th>V16</th>\n",
              "      <th>V17</th>\n",
              "      <th>V18</th>\n",
              "      <th>V19</th>\n",
              "      <th>V20</th>\n",
              "      <th>V21</th>\n",
              "      <th>V22</th>\n",
              "      <th>V23</th>\n",
              "      <th>V24</th>\n",
              "      <th>V25</th>\n",
              "      <th>V26</th>\n",
              "      <th>V27</th>\n",
              "      <th>V28</th>\n",
              "      <th>Amount</th>\n",
              "      <th>Class</th>\n",
              "    </tr>\n",
              "  </thead>\n",
              "  <tbody>\n",
              "    <tr>\n",
              "      <th>0</th>\n",
              "      <td>0.0</td>\n",
              "      <td>-1.359807</td>\n",
              "      <td>-0.072781</td>\n",
              "      <td>2.536347</td>\n",
              "      <td>1.378155</td>\n",
              "      <td>-0.338321</td>\n",
              "      <td>0.462388</td>\n",
              "      <td>0.239599</td>\n",
              "      <td>0.098698</td>\n",
              "      <td>0.363787</td>\n",
              "      <td>0.090794</td>\n",
              "      <td>-0.551600</td>\n",
              "      <td>-0.617801</td>\n",
              "      <td>-0.991390</td>\n",
              "      <td>-0.311169</td>\n",
              "      <td>1.468177</td>\n",
              "      <td>-0.470401</td>\n",
              "      <td>0.207971</td>\n",
              "      <td>0.025791</td>\n",
              "      <td>0.403993</td>\n",
              "      <td>0.251412</td>\n",
              "      <td>-0.018307</td>\n",
              "      <td>0.277838</td>\n",
              "      <td>-0.110474</td>\n",
              "      <td>0.066928</td>\n",
              "      <td>0.128539</td>\n",
              "      <td>-0.189115</td>\n",
              "      <td>0.133558</td>\n",
              "      <td>-0.021053</td>\n",
              "      <td>149.62</td>\n",
              "      <td>0</td>\n",
              "    </tr>\n",
              "    <tr>\n",
              "      <th>1</th>\n",
              "      <td>0.0</td>\n",
              "      <td>1.191857</td>\n",
              "      <td>0.266151</td>\n",
              "      <td>0.166480</td>\n",
              "      <td>0.448154</td>\n",
              "      <td>0.060018</td>\n",
              "      <td>-0.082361</td>\n",
              "      <td>-0.078803</td>\n",
              "      <td>0.085102</td>\n",
              "      <td>-0.255425</td>\n",
              "      <td>-0.166974</td>\n",
              "      <td>1.612727</td>\n",
              "      <td>1.065235</td>\n",
              "      <td>0.489095</td>\n",
              "      <td>-0.143772</td>\n",
              "      <td>0.635558</td>\n",
              "      <td>0.463917</td>\n",
              "      <td>-0.114805</td>\n",
              "      <td>-0.183361</td>\n",
              "      <td>-0.145783</td>\n",
              "      <td>-0.069083</td>\n",
              "      <td>-0.225775</td>\n",
              "      <td>-0.638672</td>\n",
              "      <td>0.101288</td>\n",
              "      <td>-0.339846</td>\n",
              "      <td>0.167170</td>\n",
              "      <td>0.125895</td>\n",
              "      <td>-0.008983</td>\n",
              "      <td>0.014724</td>\n",
              "      <td>2.69</td>\n",
              "      <td>0</td>\n",
              "    </tr>\n",
              "    <tr>\n",
              "      <th>2</th>\n",
              "      <td>1.0</td>\n",
              "      <td>-1.358354</td>\n",
              "      <td>-1.340163</td>\n",
              "      <td>1.773209</td>\n",
              "      <td>0.379780</td>\n",
              "      <td>-0.503198</td>\n",
              "      <td>1.800499</td>\n",
              "      <td>0.791461</td>\n",
              "      <td>0.247676</td>\n",
              "      <td>-1.514654</td>\n",
              "      <td>0.207643</td>\n",
              "      <td>0.624501</td>\n",
              "      <td>0.066084</td>\n",
              "      <td>0.717293</td>\n",
              "      <td>-0.165946</td>\n",
              "      <td>2.345865</td>\n",
              "      <td>-2.890083</td>\n",
              "      <td>1.109969</td>\n",
              "      <td>-0.121359</td>\n",
              "      <td>-2.261857</td>\n",
              "      <td>0.524980</td>\n",
              "      <td>0.247998</td>\n",
              "      <td>0.771679</td>\n",
              "      <td>0.909412</td>\n",
              "      <td>-0.689281</td>\n",
              "      <td>-0.327642</td>\n",
              "      <td>-0.139097</td>\n",
              "      <td>-0.055353</td>\n",
              "      <td>-0.059752</td>\n",
              "      <td>378.66</td>\n",
              "      <td>0</td>\n",
              "    </tr>\n",
              "    <tr>\n",
              "      <th>3</th>\n",
              "      <td>1.0</td>\n",
              "      <td>-0.966272</td>\n",
              "      <td>-0.185226</td>\n",
              "      <td>1.792993</td>\n",
              "      <td>-0.863291</td>\n",
              "      <td>-0.010309</td>\n",
              "      <td>1.247203</td>\n",
              "      <td>0.237609</td>\n",
              "      <td>0.377436</td>\n",
              "      <td>-1.387024</td>\n",
              "      <td>-0.054952</td>\n",
              "      <td>-0.226487</td>\n",
              "      <td>0.178228</td>\n",
              "      <td>0.507757</td>\n",
              "      <td>-0.287924</td>\n",
              "      <td>-0.631418</td>\n",
              "      <td>-1.059647</td>\n",
              "      <td>-0.684093</td>\n",
              "      <td>1.965775</td>\n",
              "      <td>-1.232622</td>\n",
              "      <td>-0.208038</td>\n",
              "      <td>-0.108300</td>\n",
              "      <td>0.005274</td>\n",
              "      <td>-0.190321</td>\n",
              "      <td>-1.175575</td>\n",
              "      <td>0.647376</td>\n",
              "      <td>-0.221929</td>\n",
              "      <td>0.062723</td>\n",
              "      <td>0.061458</td>\n",
              "      <td>123.50</td>\n",
              "      <td>0</td>\n",
              "    </tr>\n",
              "    <tr>\n",
              "      <th>4</th>\n",
              "      <td>2.0</td>\n",
              "      <td>-1.158233</td>\n",
              "      <td>0.877737</td>\n",
              "      <td>1.548718</td>\n",
              "      <td>0.403034</td>\n",
              "      <td>-0.407193</td>\n",
              "      <td>0.095921</td>\n",
              "      <td>0.592941</td>\n",
              "      <td>-0.270533</td>\n",
              "      <td>0.817739</td>\n",
              "      <td>0.753074</td>\n",
              "      <td>-0.822843</td>\n",
              "      <td>0.538196</td>\n",
              "      <td>1.345852</td>\n",
              "      <td>-1.119670</td>\n",
              "      <td>0.175121</td>\n",
              "      <td>-0.451449</td>\n",
              "      <td>-0.237033</td>\n",
              "      <td>-0.038195</td>\n",
              "      <td>0.803487</td>\n",
              "      <td>0.408542</td>\n",
              "      <td>-0.009431</td>\n",
              "      <td>0.798278</td>\n",
              "      <td>-0.137458</td>\n",
              "      <td>0.141267</td>\n",
              "      <td>-0.206010</td>\n",
              "      <td>0.502292</td>\n",
              "      <td>0.219422</td>\n",
              "      <td>0.215153</td>\n",
              "      <td>69.99</td>\n",
              "      <td>0</td>\n",
              "    </tr>\n",
              "  </tbody>\n",
              "</table>\n",
              "</div>"
            ],
            "text/plain": [
              "   Time        V1        V2        V3  ...       V27       V28  Amount  Class\n",
              "0   0.0 -1.359807 -0.072781  2.536347  ...  0.133558 -0.021053  149.62      0\n",
              "1   0.0  1.191857  0.266151  0.166480  ... -0.008983  0.014724    2.69      0\n",
              "2   1.0 -1.358354 -1.340163  1.773209  ... -0.055353 -0.059752  378.66      0\n",
              "3   1.0 -0.966272 -0.185226  1.792993  ...  0.062723  0.061458  123.50      0\n",
              "4   2.0 -1.158233  0.877737  1.548718  ...  0.219422  0.215153   69.99      0\n",
              "\n",
              "[5 rows x 31 columns]"
            ]
          },
          "metadata": {},
          "execution_count": 4
        }
      ]
    },
    {
      "cell_type": "code",
      "metadata": {
        "colab": {
          "base_uri": "https://localhost:8080/",
          "height": 224
        },
        "id": "t6tCqR4t4mlc",
        "outputId": "8407f981-56f1-482f-a841-71a26a7e9748"
      },
      "source": [
        "# ver as últimas entradas do dataset\n",
        "df.tail()"
      ],
      "execution_count": 5,
      "outputs": [
        {
          "output_type": "execute_result",
          "data": {
            "text/html": [
              "<div>\n",
              "<style scoped>\n",
              "    .dataframe tbody tr th:only-of-type {\n",
              "        vertical-align: middle;\n",
              "    }\n",
              "\n",
              "    .dataframe tbody tr th {\n",
              "        vertical-align: top;\n",
              "    }\n",
              "\n",
              "    .dataframe thead th {\n",
              "        text-align: right;\n",
              "    }\n",
              "</style>\n",
              "<table border=\"1\" class=\"dataframe\">\n",
              "  <thead>\n",
              "    <tr style=\"text-align: right;\">\n",
              "      <th></th>\n",
              "      <th>Time</th>\n",
              "      <th>V1</th>\n",
              "      <th>V2</th>\n",
              "      <th>V3</th>\n",
              "      <th>V4</th>\n",
              "      <th>V5</th>\n",
              "      <th>V6</th>\n",
              "      <th>V7</th>\n",
              "      <th>V8</th>\n",
              "      <th>V9</th>\n",
              "      <th>V10</th>\n",
              "      <th>V11</th>\n",
              "      <th>V12</th>\n",
              "      <th>V13</th>\n",
              "      <th>V14</th>\n",
              "      <th>V15</th>\n",
              "      <th>V16</th>\n",
              "      <th>V17</th>\n",
              "      <th>V18</th>\n",
              "      <th>V19</th>\n",
              "      <th>V20</th>\n",
              "      <th>V21</th>\n",
              "      <th>V22</th>\n",
              "      <th>V23</th>\n",
              "      <th>V24</th>\n",
              "      <th>V25</th>\n",
              "      <th>V26</th>\n",
              "      <th>V27</th>\n",
              "      <th>V28</th>\n",
              "      <th>Amount</th>\n",
              "      <th>Class</th>\n",
              "    </tr>\n",
              "  </thead>\n",
              "  <tbody>\n",
              "    <tr>\n",
              "      <th>284802</th>\n",
              "      <td>172786.0</td>\n",
              "      <td>-11.881118</td>\n",
              "      <td>10.071785</td>\n",
              "      <td>-9.834783</td>\n",
              "      <td>-2.066656</td>\n",
              "      <td>-5.364473</td>\n",
              "      <td>-2.606837</td>\n",
              "      <td>-4.918215</td>\n",
              "      <td>7.305334</td>\n",
              "      <td>1.914428</td>\n",
              "      <td>4.356170</td>\n",
              "      <td>-1.593105</td>\n",
              "      <td>2.711941</td>\n",
              "      <td>-0.689256</td>\n",
              "      <td>4.626942</td>\n",
              "      <td>-0.924459</td>\n",
              "      <td>1.107641</td>\n",
              "      <td>1.991691</td>\n",
              "      <td>0.510632</td>\n",
              "      <td>-0.682920</td>\n",
              "      <td>1.475829</td>\n",
              "      <td>0.213454</td>\n",
              "      <td>0.111864</td>\n",
              "      <td>1.014480</td>\n",
              "      <td>-0.509348</td>\n",
              "      <td>1.436807</td>\n",
              "      <td>0.250034</td>\n",
              "      <td>0.943651</td>\n",
              "      <td>0.823731</td>\n",
              "      <td>0.77</td>\n",
              "      <td>0</td>\n",
              "    </tr>\n",
              "    <tr>\n",
              "      <th>284803</th>\n",
              "      <td>172787.0</td>\n",
              "      <td>-0.732789</td>\n",
              "      <td>-0.055080</td>\n",
              "      <td>2.035030</td>\n",
              "      <td>-0.738589</td>\n",
              "      <td>0.868229</td>\n",
              "      <td>1.058415</td>\n",
              "      <td>0.024330</td>\n",
              "      <td>0.294869</td>\n",
              "      <td>0.584800</td>\n",
              "      <td>-0.975926</td>\n",
              "      <td>-0.150189</td>\n",
              "      <td>0.915802</td>\n",
              "      <td>1.214756</td>\n",
              "      <td>-0.675143</td>\n",
              "      <td>1.164931</td>\n",
              "      <td>-0.711757</td>\n",
              "      <td>-0.025693</td>\n",
              "      <td>-1.221179</td>\n",
              "      <td>-1.545556</td>\n",
              "      <td>0.059616</td>\n",
              "      <td>0.214205</td>\n",
              "      <td>0.924384</td>\n",
              "      <td>0.012463</td>\n",
              "      <td>-1.016226</td>\n",
              "      <td>-0.606624</td>\n",
              "      <td>-0.395255</td>\n",
              "      <td>0.068472</td>\n",
              "      <td>-0.053527</td>\n",
              "      <td>24.79</td>\n",
              "      <td>0</td>\n",
              "    </tr>\n",
              "    <tr>\n",
              "      <th>284804</th>\n",
              "      <td>172788.0</td>\n",
              "      <td>1.919565</td>\n",
              "      <td>-0.301254</td>\n",
              "      <td>-3.249640</td>\n",
              "      <td>-0.557828</td>\n",
              "      <td>2.630515</td>\n",
              "      <td>3.031260</td>\n",
              "      <td>-0.296827</td>\n",
              "      <td>0.708417</td>\n",
              "      <td>0.432454</td>\n",
              "      <td>-0.484782</td>\n",
              "      <td>0.411614</td>\n",
              "      <td>0.063119</td>\n",
              "      <td>-0.183699</td>\n",
              "      <td>-0.510602</td>\n",
              "      <td>1.329284</td>\n",
              "      <td>0.140716</td>\n",
              "      <td>0.313502</td>\n",
              "      <td>0.395652</td>\n",
              "      <td>-0.577252</td>\n",
              "      <td>0.001396</td>\n",
              "      <td>0.232045</td>\n",
              "      <td>0.578229</td>\n",
              "      <td>-0.037501</td>\n",
              "      <td>0.640134</td>\n",
              "      <td>0.265745</td>\n",
              "      <td>-0.087371</td>\n",
              "      <td>0.004455</td>\n",
              "      <td>-0.026561</td>\n",
              "      <td>67.88</td>\n",
              "      <td>0</td>\n",
              "    </tr>\n",
              "    <tr>\n",
              "      <th>284805</th>\n",
              "      <td>172788.0</td>\n",
              "      <td>-0.240440</td>\n",
              "      <td>0.530483</td>\n",
              "      <td>0.702510</td>\n",
              "      <td>0.689799</td>\n",
              "      <td>-0.377961</td>\n",
              "      <td>0.623708</td>\n",
              "      <td>-0.686180</td>\n",
              "      <td>0.679145</td>\n",
              "      <td>0.392087</td>\n",
              "      <td>-0.399126</td>\n",
              "      <td>-1.933849</td>\n",
              "      <td>-0.962886</td>\n",
              "      <td>-1.042082</td>\n",
              "      <td>0.449624</td>\n",
              "      <td>1.962563</td>\n",
              "      <td>-0.608577</td>\n",
              "      <td>0.509928</td>\n",
              "      <td>1.113981</td>\n",
              "      <td>2.897849</td>\n",
              "      <td>0.127434</td>\n",
              "      <td>0.265245</td>\n",
              "      <td>0.800049</td>\n",
              "      <td>-0.163298</td>\n",
              "      <td>0.123205</td>\n",
              "      <td>-0.569159</td>\n",
              "      <td>0.546668</td>\n",
              "      <td>0.108821</td>\n",
              "      <td>0.104533</td>\n",
              "      <td>10.00</td>\n",
              "      <td>0</td>\n",
              "    </tr>\n",
              "    <tr>\n",
              "      <th>284806</th>\n",
              "      <td>172792.0</td>\n",
              "      <td>-0.533413</td>\n",
              "      <td>-0.189733</td>\n",
              "      <td>0.703337</td>\n",
              "      <td>-0.506271</td>\n",
              "      <td>-0.012546</td>\n",
              "      <td>-0.649617</td>\n",
              "      <td>1.577006</td>\n",
              "      <td>-0.414650</td>\n",
              "      <td>0.486180</td>\n",
              "      <td>-0.915427</td>\n",
              "      <td>-1.040458</td>\n",
              "      <td>-0.031513</td>\n",
              "      <td>-0.188093</td>\n",
              "      <td>-0.084316</td>\n",
              "      <td>0.041333</td>\n",
              "      <td>-0.302620</td>\n",
              "      <td>-0.660377</td>\n",
              "      <td>0.167430</td>\n",
              "      <td>-0.256117</td>\n",
              "      <td>0.382948</td>\n",
              "      <td>0.261057</td>\n",
              "      <td>0.643078</td>\n",
              "      <td>0.376777</td>\n",
              "      <td>0.008797</td>\n",
              "      <td>-0.473649</td>\n",
              "      <td>-0.818267</td>\n",
              "      <td>-0.002415</td>\n",
              "      <td>0.013649</td>\n",
              "      <td>217.00</td>\n",
              "      <td>0</td>\n",
              "    </tr>\n",
              "  </tbody>\n",
              "</table>\n",
              "</div>"
            ],
            "text/plain": [
              "            Time         V1         V2  ...       V28  Amount  Class\n",
              "284802  172786.0 -11.881118  10.071785  ...  0.823731    0.77      0\n",
              "284803  172787.0  -0.732789  -0.055080  ... -0.053527   24.79      0\n",
              "284804  172788.0   1.919565  -0.301254  ... -0.026561   67.88      0\n",
              "284805  172788.0  -0.240440   0.530483  ...  0.104533   10.00      0\n",
              "284806  172792.0  -0.533413  -0.189733  ...  0.013649  217.00      0\n",
              "\n",
              "[5 rows x 31 columns]"
            ]
          },
          "metadata": {},
          "execution_count": 5
        }
      ]
    },
    {
      "cell_type": "markdown",
      "metadata": {
        "id": "WAQ4prgQ4xpU"
      },
      "source": [
        "Visualizando os dados, podemos perceber que as variáveis `Time` e `Amount` possuem seus valores originais.\n",
        "\n",
        "Também vemos que o dataset passou por uma transformação prévia (PCA) de modo a descaracterizar as variáveis deixando-as anônimas, isso é marcado pela presença das variáveis numéricas (V1-V28), as quais não temos mais detalhes.\n",
        "\n",
        "Em seguida vamos visualizar um resumo estatístico do *dataframe* utilizando o \n",
        "método `describe()`."
      ]
    },
    {
      "cell_type": "code",
      "metadata": {
        "colab": {
          "base_uri": "https://localhost:8080/",
          "height": 385
        },
        "id": "JjGEIFGK430r",
        "outputId": "21d35e98-e1ce-4249-b090-1e84a85ba95f"
      },
      "source": [
        "# exibir um resumo do dataset\n",
        "print(f\"Entradas:\\t{df.shape[0]}\")\n",
        "print(f\"Variáveis:\\t{df.shape[1]}\\n\\n\")\n",
        "df.describe()"
      ],
      "execution_count": 6,
      "outputs": [
        {
          "output_type": "stream",
          "name": "stdout",
          "text": [
            "Entradas:\t284807\n",
            "Variáveis:\t31\n",
            "\n",
            "\n"
          ]
        },
        {
          "output_type": "execute_result",
          "data": {
            "text/html": [
              "<div>\n",
              "<style scoped>\n",
              "    .dataframe tbody tr th:only-of-type {\n",
              "        vertical-align: middle;\n",
              "    }\n",
              "\n",
              "    .dataframe tbody tr th {\n",
              "        vertical-align: top;\n",
              "    }\n",
              "\n",
              "    .dataframe thead th {\n",
              "        text-align: right;\n",
              "    }\n",
              "</style>\n",
              "<table border=\"1\" class=\"dataframe\">\n",
              "  <thead>\n",
              "    <tr style=\"text-align: right;\">\n",
              "      <th></th>\n",
              "      <th>Time</th>\n",
              "      <th>V1</th>\n",
              "      <th>V2</th>\n",
              "      <th>V3</th>\n",
              "      <th>V4</th>\n",
              "      <th>V5</th>\n",
              "      <th>V6</th>\n",
              "      <th>V7</th>\n",
              "      <th>V8</th>\n",
              "      <th>V9</th>\n",
              "      <th>V10</th>\n",
              "      <th>V11</th>\n",
              "      <th>V12</th>\n",
              "      <th>V13</th>\n",
              "      <th>V14</th>\n",
              "      <th>V15</th>\n",
              "      <th>V16</th>\n",
              "      <th>V17</th>\n",
              "      <th>V18</th>\n",
              "      <th>V19</th>\n",
              "      <th>V20</th>\n",
              "      <th>V21</th>\n",
              "      <th>V22</th>\n",
              "      <th>V23</th>\n",
              "      <th>V24</th>\n",
              "      <th>V25</th>\n",
              "      <th>V26</th>\n",
              "      <th>V27</th>\n",
              "      <th>V28</th>\n",
              "      <th>Amount</th>\n",
              "      <th>Class</th>\n",
              "    </tr>\n",
              "  </thead>\n",
              "  <tbody>\n",
              "    <tr>\n",
              "      <th>count</th>\n",
              "      <td>284807.000000</td>\n",
              "      <td>2.848070e+05</td>\n",
              "      <td>2.848070e+05</td>\n",
              "      <td>2.848070e+05</td>\n",
              "      <td>2.848070e+05</td>\n",
              "      <td>2.848070e+05</td>\n",
              "      <td>2.848070e+05</td>\n",
              "      <td>2.848070e+05</td>\n",
              "      <td>2.848070e+05</td>\n",
              "      <td>2.848070e+05</td>\n",
              "      <td>2.848070e+05</td>\n",
              "      <td>2.848070e+05</td>\n",
              "      <td>2.848070e+05</td>\n",
              "      <td>2.848070e+05</td>\n",
              "      <td>2.848070e+05</td>\n",
              "      <td>2.848070e+05</td>\n",
              "      <td>2.848070e+05</td>\n",
              "      <td>2.848070e+05</td>\n",
              "      <td>2.848070e+05</td>\n",
              "      <td>2.848070e+05</td>\n",
              "      <td>2.848070e+05</td>\n",
              "      <td>2.848070e+05</td>\n",
              "      <td>2.848070e+05</td>\n",
              "      <td>2.848070e+05</td>\n",
              "      <td>2.848070e+05</td>\n",
              "      <td>2.848070e+05</td>\n",
              "      <td>2.848070e+05</td>\n",
              "      <td>2.848070e+05</td>\n",
              "      <td>2.848070e+05</td>\n",
              "      <td>284807.000000</td>\n",
              "      <td>284807.000000</td>\n",
              "    </tr>\n",
              "    <tr>\n",
              "      <th>mean</th>\n",
              "      <td>94813.859575</td>\n",
              "      <td>3.919560e-15</td>\n",
              "      <td>5.688174e-16</td>\n",
              "      <td>-8.769071e-15</td>\n",
              "      <td>2.782312e-15</td>\n",
              "      <td>-1.552563e-15</td>\n",
              "      <td>2.010663e-15</td>\n",
              "      <td>-1.694249e-15</td>\n",
              "      <td>-1.927028e-16</td>\n",
              "      <td>-3.137024e-15</td>\n",
              "      <td>1.768627e-15</td>\n",
              "      <td>9.170318e-16</td>\n",
              "      <td>-1.810658e-15</td>\n",
              "      <td>1.693438e-15</td>\n",
              "      <td>1.479045e-15</td>\n",
              "      <td>3.482336e-15</td>\n",
              "      <td>1.392007e-15</td>\n",
              "      <td>-7.528491e-16</td>\n",
              "      <td>4.328772e-16</td>\n",
              "      <td>9.049732e-16</td>\n",
              "      <td>5.085503e-16</td>\n",
              "      <td>1.537294e-16</td>\n",
              "      <td>7.959909e-16</td>\n",
              "      <td>5.367590e-16</td>\n",
              "      <td>4.458112e-15</td>\n",
              "      <td>1.453003e-15</td>\n",
              "      <td>1.699104e-15</td>\n",
              "      <td>-3.660161e-16</td>\n",
              "      <td>-1.206049e-16</td>\n",
              "      <td>88.349619</td>\n",
              "      <td>0.001727</td>\n",
              "    </tr>\n",
              "    <tr>\n",
              "      <th>std</th>\n",
              "      <td>47488.145955</td>\n",
              "      <td>1.958696e+00</td>\n",
              "      <td>1.651309e+00</td>\n",
              "      <td>1.516255e+00</td>\n",
              "      <td>1.415869e+00</td>\n",
              "      <td>1.380247e+00</td>\n",
              "      <td>1.332271e+00</td>\n",
              "      <td>1.237094e+00</td>\n",
              "      <td>1.194353e+00</td>\n",
              "      <td>1.098632e+00</td>\n",
              "      <td>1.088850e+00</td>\n",
              "      <td>1.020713e+00</td>\n",
              "      <td>9.992014e-01</td>\n",
              "      <td>9.952742e-01</td>\n",
              "      <td>9.585956e-01</td>\n",
              "      <td>9.153160e-01</td>\n",
              "      <td>8.762529e-01</td>\n",
              "      <td>8.493371e-01</td>\n",
              "      <td>8.381762e-01</td>\n",
              "      <td>8.140405e-01</td>\n",
              "      <td>7.709250e-01</td>\n",
              "      <td>7.345240e-01</td>\n",
              "      <td>7.257016e-01</td>\n",
              "      <td>6.244603e-01</td>\n",
              "      <td>6.056471e-01</td>\n",
              "      <td>5.212781e-01</td>\n",
              "      <td>4.822270e-01</td>\n",
              "      <td>4.036325e-01</td>\n",
              "      <td>3.300833e-01</td>\n",
              "      <td>250.120109</td>\n",
              "      <td>0.041527</td>\n",
              "    </tr>\n",
              "    <tr>\n",
              "      <th>min</th>\n",
              "      <td>0.000000</td>\n",
              "      <td>-5.640751e+01</td>\n",
              "      <td>-7.271573e+01</td>\n",
              "      <td>-4.832559e+01</td>\n",
              "      <td>-5.683171e+00</td>\n",
              "      <td>-1.137433e+02</td>\n",
              "      <td>-2.616051e+01</td>\n",
              "      <td>-4.355724e+01</td>\n",
              "      <td>-7.321672e+01</td>\n",
              "      <td>-1.343407e+01</td>\n",
              "      <td>-2.458826e+01</td>\n",
              "      <td>-4.797473e+00</td>\n",
              "      <td>-1.868371e+01</td>\n",
              "      <td>-5.791881e+00</td>\n",
              "      <td>-1.921433e+01</td>\n",
              "      <td>-4.498945e+00</td>\n",
              "      <td>-1.412985e+01</td>\n",
              "      <td>-2.516280e+01</td>\n",
              "      <td>-9.498746e+00</td>\n",
              "      <td>-7.213527e+00</td>\n",
              "      <td>-5.449772e+01</td>\n",
              "      <td>-3.483038e+01</td>\n",
              "      <td>-1.093314e+01</td>\n",
              "      <td>-4.480774e+01</td>\n",
              "      <td>-2.836627e+00</td>\n",
              "      <td>-1.029540e+01</td>\n",
              "      <td>-2.604551e+00</td>\n",
              "      <td>-2.256568e+01</td>\n",
              "      <td>-1.543008e+01</td>\n",
              "      <td>0.000000</td>\n",
              "      <td>0.000000</td>\n",
              "    </tr>\n",
              "    <tr>\n",
              "      <th>25%</th>\n",
              "      <td>54201.500000</td>\n",
              "      <td>-9.203734e-01</td>\n",
              "      <td>-5.985499e-01</td>\n",
              "      <td>-8.903648e-01</td>\n",
              "      <td>-8.486401e-01</td>\n",
              "      <td>-6.915971e-01</td>\n",
              "      <td>-7.682956e-01</td>\n",
              "      <td>-5.540759e-01</td>\n",
              "      <td>-2.086297e-01</td>\n",
              "      <td>-6.430976e-01</td>\n",
              "      <td>-5.354257e-01</td>\n",
              "      <td>-7.624942e-01</td>\n",
              "      <td>-4.055715e-01</td>\n",
              "      <td>-6.485393e-01</td>\n",
              "      <td>-4.255740e-01</td>\n",
              "      <td>-5.828843e-01</td>\n",
              "      <td>-4.680368e-01</td>\n",
              "      <td>-4.837483e-01</td>\n",
              "      <td>-4.988498e-01</td>\n",
              "      <td>-4.562989e-01</td>\n",
              "      <td>-2.117214e-01</td>\n",
              "      <td>-2.283949e-01</td>\n",
              "      <td>-5.423504e-01</td>\n",
              "      <td>-1.618463e-01</td>\n",
              "      <td>-3.545861e-01</td>\n",
              "      <td>-3.171451e-01</td>\n",
              "      <td>-3.269839e-01</td>\n",
              "      <td>-7.083953e-02</td>\n",
              "      <td>-5.295979e-02</td>\n",
              "      <td>5.600000</td>\n",
              "      <td>0.000000</td>\n",
              "    </tr>\n",
              "    <tr>\n",
              "      <th>50%</th>\n",
              "      <td>84692.000000</td>\n",
              "      <td>1.810880e-02</td>\n",
              "      <td>6.548556e-02</td>\n",
              "      <td>1.798463e-01</td>\n",
              "      <td>-1.984653e-02</td>\n",
              "      <td>-5.433583e-02</td>\n",
              "      <td>-2.741871e-01</td>\n",
              "      <td>4.010308e-02</td>\n",
              "      <td>2.235804e-02</td>\n",
              "      <td>-5.142873e-02</td>\n",
              "      <td>-9.291738e-02</td>\n",
              "      <td>-3.275735e-02</td>\n",
              "      <td>1.400326e-01</td>\n",
              "      <td>-1.356806e-02</td>\n",
              "      <td>5.060132e-02</td>\n",
              "      <td>4.807155e-02</td>\n",
              "      <td>6.641332e-02</td>\n",
              "      <td>-6.567575e-02</td>\n",
              "      <td>-3.636312e-03</td>\n",
              "      <td>3.734823e-03</td>\n",
              "      <td>-6.248109e-02</td>\n",
              "      <td>-2.945017e-02</td>\n",
              "      <td>6.781943e-03</td>\n",
              "      <td>-1.119293e-02</td>\n",
              "      <td>4.097606e-02</td>\n",
              "      <td>1.659350e-02</td>\n",
              "      <td>-5.213911e-02</td>\n",
              "      <td>1.342146e-03</td>\n",
              "      <td>1.124383e-02</td>\n",
              "      <td>22.000000</td>\n",
              "      <td>0.000000</td>\n",
              "    </tr>\n",
              "    <tr>\n",
              "      <th>75%</th>\n",
              "      <td>139320.500000</td>\n",
              "      <td>1.315642e+00</td>\n",
              "      <td>8.037239e-01</td>\n",
              "      <td>1.027196e+00</td>\n",
              "      <td>7.433413e-01</td>\n",
              "      <td>6.119264e-01</td>\n",
              "      <td>3.985649e-01</td>\n",
              "      <td>5.704361e-01</td>\n",
              "      <td>3.273459e-01</td>\n",
              "      <td>5.971390e-01</td>\n",
              "      <td>4.539234e-01</td>\n",
              "      <td>7.395934e-01</td>\n",
              "      <td>6.182380e-01</td>\n",
              "      <td>6.625050e-01</td>\n",
              "      <td>4.931498e-01</td>\n",
              "      <td>6.488208e-01</td>\n",
              "      <td>5.232963e-01</td>\n",
              "      <td>3.996750e-01</td>\n",
              "      <td>5.008067e-01</td>\n",
              "      <td>4.589494e-01</td>\n",
              "      <td>1.330408e-01</td>\n",
              "      <td>1.863772e-01</td>\n",
              "      <td>5.285536e-01</td>\n",
              "      <td>1.476421e-01</td>\n",
              "      <td>4.395266e-01</td>\n",
              "      <td>3.507156e-01</td>\n",
              "      <td>2.409522e-01</td>\n",
              "      <td>9.104512e-02</td>\n",
              "      <td>7.827995e-02</td>\n",
              "      <td>77.165000</td>\n",
              "      <td>0.000000</td>\n",
              "    </tr>\n",
              "    <tr>\n",
              "      <th>max</th>\n",
              "      <td>172792.000000</td>\n",
              "      <td>2.454930e+00</td>\n",
              "      <td>2.205773e+01</td>\n",
              "      <td>9.382558e+00</td>\n",
              "      <td>1.687534e+01</td>\n",
              "      <td>3.480167e+01</td>\n",
              "      <td>7.330163e+01</td>\n",
              "      <td>1.205895e+02</td>\n",
              "      <td>2.000721e+01</td>\n",
              "      <td>1.559499e+01</td>\n",
              "      <td>2.374514e+01</td>\n",
              "      <td>1.201891e+01</td>\n",
              "      <td>7.848392e+00</td>\n",
              "      <td>7.126883e+00</td>\n",
              "      <td>1.052677e+01</td>\n",
              "      <td>8.877742e+00</td>\n",
              "      <td>1.731511e+01</td>\n",
              "      <td>9.253526e+00</td>\n",
              "      <td>5.041069e+00</td>\n",
              "      <td>5.591971e+00</td>\n",
              "      <td>3.942090e+01</td>\n",
              "      <td>2.720284e+01</td>\n",
              "      <td>1.050309e+01</td>\n",
              "      <td>2.252841e+01</td>\n",
              "      <td>4.584549e+00</td>\n",
              "      <td>7.519589e+00</td>\n",
              "      <td>3.517346e+00</td>\n",
              "      <td>3.161220e+01</td>\n",
              "      <td>3.384781e+01</td>\n",
              "      <td>25691.160000</td>\n",
              "      <td>1.000000</td>\n",
              "    </tr>\n",
              "  </tbody>\n",
              "</table>\n",
              "</div>"
            ],
            "text/plain": [
              "                Time            V1  ...         Amount          Class\n",
              "count  284807.000000  2.848070e+05  ...  284807.000000  284807.000000\n",
              "mean    94813.859575  3.919560e-15  ...      88.349619       0.001727\n",
              "std     47488.145955  1.958696e+00  ...     250.120109       0.041527\n",
              "min         0.000000 -5.640751e+01  ...       0.000000       0.000000\n",
              "25%     54201.500000 -9.203734e-01  ...       5.600000       0.000000\n",
              "50%     84692.000000  1.810880e-02  ...      22.000000       0.000000\n",
              "75%    139320.500000  1.315642e+00  ...      77.165000       0.000000\n",
              "max    172792.000000  2.454930e+00  ...   25691.160000       1.000000\n",
              "\n",
              "[8 rows x 31 columns]"
            ]
          },
          "metadata": {},
          "execution_count": 6
        }
      ]
    },
    {
      "cell_type": "markdown",
      "metadata": {
        "id": "f4Cmenqn6EKM"
      },
      "source": [
        "Pelo resumo estatístico notamos que as váriaveis resultantes do PCA (V1-V28) não possuem discrepâncias aparentes. O mesmo ocorre com a variável `Time`. \n",
        "\n",
        "Vale o adendo que, segundo a documentação a variável `Time` representa a quantidade em segundos entre a transação e a primeira transação do *dataset*, ou seja, a última transação ocorreu 172.792 segundos (ou 2 dias) após o primeiro registro no dataset.\n",
        "\n",
        "Vemos também que o valor médio das transações foi de 88.34, mediana de 22.00 e desvio padrão de 250.12. Também notamos que o valor máximo atingido foi de 25691.16. No entanto, como esperado, a maioria das transações apresentaram quantias menores.\n",
        "\n"
      ]
    },
    {
      "cell_type": "markdown",
      "metadata": {
        "id": "l6XS2dAIqTLl"
      },
      "source": [
        "### Criando um conjunto de teste\n",
        "\n",
        "Vamos extrair um subconjunto de dados a partir do dataframe original. Esse conjunto será utilizado para testar nosso modelo. Uma recomendação geral é que o modelo só tenha conhecimento desses dados após treinado e validado, assim conseguimos simular uma situação real onde o modelo deverá classificar dados novos/desconhecidos."
      ]
    },
    {
      "cell_type": "code",
      "metadata": {
        "id": "bRnhB8wnq910",
        "colab": {
          "base_uri": "https://localhost:8080/"
        },
        "outputId": "d1a55592-aa94-4691-d97b-30ba6a3cd046"
      },
      "source": [
        "# criar um conjunto de teste\n",
        "test = df.sample(frac=0.15, random_state=0)\n",
        "\n",
        "# remover exemplos de teste do dataset original\n",
        "df = df.drop(test.index)\n",
        "\n",
        "# verificar dimensões dos conjuntos\n",
        "print(f'Dimensões do dataset de teste:\\t{test.shape}')\n",
        "print(f'Novas Dimensões do dataset:\\t{df.shape}')"
      ],
      "execution_count": 7,
      "outputs": [
        {
          "output_type": "stream",
          "name": "stdout",
          "text": [
            "Dimensões do dataset de teste:\t(42721, 31)\n",
            "Novas Dimensões do dataset:\t(242086, 31)\n"
          ]
        }
      ]
    },
    {
      "cell_type": "code",
      "metadata": {
        "colab": {
          "base_uri": "https://localhost:8080/",
          "height": 153
        },
        "id": "aHuX0m8O7RGM",
        "outputId": "e5b61fbe-4ff4-4895-c03e-92133bf293ba"
      },
      "source": [
        "# visualizar balanceamento do dataset\n",
        "fig, ax = plt.subplots(figsize=(20,2))\n",
        "\n",
        "sns.countplot(y=\"Class\", data=df, ax=ax, orient='h')\n",
        "\n",
        "# plt.savefig('dataset_balance.png')\n",
        "\n",
        "plt.tight_layout()"
      ],
      "execution_count": 8,
      "outputs": [
        {
          "output_type": "display_data",
          "data": {
            "image/png": "[encoded data removed]",
            "text/plain": [
              "<Figure size 1440x144 with 1 Axes>"
            ]
          },
          "metadata": {}
        }
      ]
    },
    {
      "cell_type": "markdown",
      "metadata": {
        "id": "J51F4sAO79gE"
      },
      "source": [
        "O gráfico acima deixa claro o desbalanceamento do *dataset*, com apenas 0,17% do total de registros sendo classificados como fraude.\n",
        "\n",
        "Portanto será necessário balancearmos os dados antes de treinar nosso modelo de classificação."
      ]
    },
    {
      "cell_type": "code",
      "metadata": {
        "colab": {
          "base_uri": "https://localhost:8080/",
          "height": 441
        },
        "id": "pE7W4X3w8X70",
        "outputId": "e7113fd6-675a-4c88-f3ea-67109d886058"
      },
      "source": [
        "fig, ax = plt.subplots(ncols=1, nrows=2, figsize=(12,6))\n",
        "\n",
        "num_bins = 40\n",
        "\n",
        "ax[0].hist(df.Time[df.Class == 0], bins=num_bins)\n",
        "ax[0].set_title('Normal')\n",
        "\n",
        "ax[1].hist(df.Time[df.Class == 1], bins=num_bins)\n",
        "ax[1].set_title('Fraud')\n",
        "\n",
        "ax[0].set_ylabel('Tempo (segundos)')\n",
        "ax[0].set_xlabel('Transações')\n",
        "\n",
        "ax[1].set_ylabel('Tempo (segundos)')\n",
        "ax[1].set_xlabel('Transações')\n",
        "\n",
        "plt.tight_layout()"
      ],
      "execution_count": 9,
      "outputs": [
        {
          "output_type": "display_data",
          "data": {
            "image/png": "[encoded data removed]",
            "text/plain": [
              "<Figure size 864x432 with 2 Axes>"
            ]
          },
          "metadata": {}
        }
      ]
    },
    {
      "cell_type": "markdown",
      "metadata": {
        "id": "Ya5Kv3PWBOLk"
      },
      "source": [
        "Comparando as distribuições das duas classe na variável `Time`, não conseguimos identificar nenhuma informação relevante."
      ]
    },
    {
      "cell_type": "markdown",
      "metadata": {
        "id": "qukfATie-r68"
      },
      "source": [
        "\n",
        "\n",
        "Vamos ver como fica essa distribuição com relação à coluna ***Amount***, para essa coluna iremos ainda plotar um boxplot para vermos se há algum padrão nas transações."
      ]
    },
    {
      "cell_type": "code",
      "metadata": {
        "colab": {
          "base_uri": "https://localhost:8080/",
          "height": 441
        },
        "id": "cSrs6byH_MTn",
        "outputId": "00a5aaf9-b587-43be-ae93-273212520ebc"
      },
      "source": [
        "fig, ax = plt.subplots(ncols=1, nrows=2, figsize=(12,6))\n",
        "\n",
        "num_bins = 40\n",
        "\n",
        "ax[0].hist(df.Amount[df.Class == 0], bins=num_bins)\n",
        "ax[0].set_title('Normal')\n",
        "\n",
        "ax[1].hist(df.Amount[df.Class == 1], bins=num_bins)\n",
        "ax[1].set_title('Fraude')\n",
        "\n",
        "ax[0].set_ylabel('Amount')\n",
        "ax[0].set_xlabel('Transações')\n",
        "\n",
        "ax[1].set_ylabel('Amount')\n",
        "ax[1].set_xlabel('Transações')\n",
        "plt.tight_layout()"
      ],
      "execution_count": 10,
      "outputs": [
        {
          "output_type": "display_data",
          "data": {
            "image/png": "[encoded data removed]",
            "text/plain": [
              "<Figure size 864x432 with 2 Axes>"
            ]
          },
          "metadata": {}
        }
      ]
    },
    {
      "cell_type": "markdown",
      "metadata": {
        "id": "LMGS3pIR_ae0"
      },
      "source": [
        "Pelos histogramas acima, vemos algumas discrepâncias na distribuição da variável `Amount` com relação a quantidade de transações, notamos a presença de um outlier (a transação de 25691), também percebemos que a maior transação fraudulenta encontrada foi num valor próximo a 300.\n",
        "\n",
        "Também vemos que as transações fraudulentas concentram-se em valores menores, muito provavelmente para evitar os mecanismos de detecção.\n",
        "\n",
        "Seguindo nossa análise, vamos ver como ficam os boxplots para a variável `Amount`"
      ]
    },
    {
      "cell_type": "code",
      "metadata": {
        "colab": {
          "base_uri": "https://localhost:8080/",
          "height": 729
        },
        "id": "LEgtNR3gMmur",
        "outputId": "e914950d-140c-45fe-9657-0538a7a32f47"
      },
      "source": [
        "# plotar boxplot\n",
        "fig, ax = plt.subplots(figsize=(6, 10), sharex=True)\n",
        "\n",
        "sns.boxplot(df.Class, df.Amount, showmeans=True, ax=ax)\n",
        "plt.ylim((-20, 400))\n",
        "plt.xticks([0, 1], ['Normal', 'Fraude'])\n",
        "\n",
        "plt.tight_layout()"
      ],
      "execution_count": 11,
      "outputs": [
        {
          "output_type": "display_data",
          "data": {
            "image/png": "[encoded data removed]",
            "text/plain": [
              "<Figure size 432x720 with 1 Axes>"
            ]
          },
          "metadata": {}
        }
      ]
    },
    {
      "cell_type": "markdown",
      "metadata": {
        "id": "3WjpTy66NQBJ"
      },
      "source": [
        "O BoxPlot acima nos revela uma distribuição diferente entre as classess.\n",
        "\n",
        "Vamos verificar o resumo estatístico da variável `Amount` dos dados classificados como fraude."
      ]
    },
    {
      "cell_type": "code",
      "metadata": {
        "colab": {
          "base_uri": "https://localhost:8080/"
        },
        "id": "5Wmk6UL0NdXp",
        "outputId": "f4fa7a89-3bd2-45a8-fda7-671ebc6ca96b"
      },
      "source": [
        "# resumo estatístico da variável Amount\n",
        "df[(df.Class == 1)]['Amount'].describe()"
      ],
      "execution_count": 12,
      "outputs": [
        {
          "output_type": "execute_result",
          "data": {
            "text/plain": [
              "count     418.000000\n",
              "mean      128.496722\n",
              "std       267.731154\n",
              "min         0.000000\n",
              "25%         1.000000\n",
              "50%        11.855000\n",
              "75%       106.812500\n",
              "max      2125.870000\n",
              "Name: Amount, dtype: float64"
            ]
          },
          "metadata": {},
          "execution_count": 12
        }
      ]
    },
    {
      "cell_type": "markdown",
      "metadata": {
        "id": "E7TsubHWN0qp"
      },
      "source": [
        "Vemos que a média é 122.21 e o maior valor 2125.87, também vemos que a mediana é 9.25, isso nos mostra que a maioria das transações classificadas como fraude possuem valores entre 1 e 105.89."
      ]
    },
    {
      "cell_type": "markdown",
      "metadata": {
        "id": "ggd_UQFiPFxB"
      },
      "source": [
        "Vamos analisar pelos gráficos de densidade, se conseguimos mais informações que nos indiquem quais das variáveis poderão ser melhores para treinarmos nosso modelo."
      ]
    },
    {
      "cell_type": "code",
      "metadata": {
        "colab": {
          "base_uri": "https://localhost:8080/",
          "height": 1000
        },
        "id": "ardy0wGVPU_B",
        "outputId": "31bdab1d-d720-46b2-bcac-1cea1e4b0dca"
      },
      "source": [
        "# remover colunas\n",
        "column_names = df.drop(['Class', 'Amount', 'Time'], axis=1).columns\n",
        "\n",
        "# separar dataframe em dataframe normal e dataframe fraud\n",
        "df_class_0 = df[df.Class == 0]\n",
        "df_class_1 = df[df.Class == 1]\n",
        "\n",
        "# plotar gráficos de densidades para todas as variáveis\n",
        "fig, ax = plt.subplots(nrows=7, ncols=4, figsize=(18,18))\n",
        "fig.subplots_adjust(hspace=1, wspace=1)\n",
        "\n",
        "for idx, col in enumerate(column_names):\n",
        "    plt.subplot(7, 4, idx + 1)\n",
        "    sns.kdeplot(df_class_0[col], label=\"Class 0\", shade=True)\n",
        "    sns.kdeplot(df_class_1[col], label=\"Class 1\", shade=True)\n",
        "    plt.title(col, fontsize=10)\n",
        "plt.tight_layout()"
      ],
      "execution_count": 13,
      "outputs": [
        {
          "output_type": "display_data",
          "data": {
            "image/png": "[encoded data removed]",
            "text/plain": [
              "<Figure size 1296x1296 with 28 Axes>"
            ]
          },
          "metadata": {}
        }
      ]
    },
    {
      "cell_type": "markdown",
      "metadata": {
        "id": "7bJW5_xkQcX5"
      },
      "source": [
        "Nesse tipo de representação buscamos encontrar anomalias, ou seja, as variáveis que são diferentes entre as classes, assim temos uma maior chance de detectar fraudes. Nesses gráficos, notamos que:\n",
        "\n",
        "1. As variáveis `V3`, `V4`, `V10`, `V11`, `V12` e `V14` são bem diferentes\n",
        "2. Enquanto as variáveis `V13`, `V15`, `V25` e `V28` são bem semelhantes.\n",
        "\n",
        "\n",
        "Agora que conhecemos um pouco mais sobre os dados, vamos prepará-los para treinar nosso modelo."
      ]
    },
    {
      "cell_type": "markdown",
      "metadata": {
        "id": "ULe7z0jZt0EH"
      },
      "source": [
        "## Preparação dos Dados\n",
        "\n",
        "Na etapa de preparação dos dados precisamos:\n",
        "\n",
        "* Dividir o conjunto de dados entre treino e validação\n",
        "* Normalizar os dados que ainda não haviam sido pré-processados (`Time` e `Amount`)\n",
        "* Balancear o conjunto de dados para evitar baixa performance e *overfitting*"
      ]
    },
    {
      "cell_type": "markdown",
      "metadata": {
        "id": "gajwYb0ZUUaJ"
      },
      "source": [
        "### Dividir entre conjuntos de treino e validação\n",
        "\n",
        "Antes de balancearmos o conjunto de dados, iremos dividir os conjuntos em treino e validação, para que possamos validar se o balanceamento foi feito corretamente.\n",
        "\n",
        "Para que os conjuntos de treino e validação tenham a mesma quantidade de classes proporcionalmente, passaremos para nossas classes o parâmetro `stratify`"
      ]
    },
    {
      "cell_type": "code",
      "metadata": {
        "id": "pAmBiQauUvIK"
      },
      "source": [
        "# importar pacotes necessários\n",
        "from sklearn.model_selection import train_test_split\n",
        "\n",
        "# Remover coluna alvo\n",
        "X = df.drop('Class', axis=1)\n",
        "y = df.Class\n",
        "\n",
        "# dividir os conjuntos\n",
        "X_train, X_val, y_train, y_val = train_test_split(X, y, stratify=y, shuffle=True)"
      ],
      "execution_count": 14,
      "outputs": []
    },
    {
      "cell_type": "code",
      "metadata": {
        "colab": {
          "base_uri": "https://localhost:8080/"
        },
        "id": "8D1OBhgMVaLq",
        "outputId": "c6dbd9a1-3476-4d93-f163-b813d54cf462"
      },
      "source": [
        "# Visualizar dados de treino e validação\n",
        "print(X_train.shape)\n",
        "print(y_train.shape)\n",
        "print(X_val.shape)\n",
        "print(y_val.shape)"
      ],
      "execution_count": 15,
      "outputs": [
        {
          "output_type": "stream",
          "name": "stdout",
          "text": [
            "(181564, 30)\n",
            "(181564,)\n",
            "(60522, 30)\n",
            "(60522,)\n"
          ]
        }
      ]
    },
    {
      "cell_type": "markdown",
      "metadata": {
        "id": "rsN30pESSnlJ"
      },
      "source": [
        "### Padronizar `Time` e `Amount`\n",
        "\n",
        "Para evitar problemas com escalas diferentes durante o treinamento do nosso modelo, iremos padronizar as variáveis que não estão na mesma escala das demais, no caso as variáveis `Time` e `Amount`. Como `Amount` possui *outliers* utilizaremos o `StandardScaler`."
      ]
    },
    {
      "cell_type": "code",
      "metadata": {
        "id": "IqfjG_SUSTi-",
        "colab": {
          "base_uri": "https://localhost:8080/",
          "height": 224
        },
        "outputId": "51eed821-5ecf-4769-cf26-0d440b2dc35a"
      },
      "source": [
        "# importar standard scaler\n",
        "from sklearn.preprocessing import StandardScaler\n",
        "\n",
        "# copiar dataframe\n",
        "df_clean = X_train.copy()\n",
        "\n",
        "# instanciar standard scaler\n",
        "time_scaler = StandardScaler()\n",
        "amount_scaler = StandardScaler()\n",
        "\n",
        "# criar colunas time e amount padronizadas\n",
        "df_clean['time'] = time_scaler.fit_transform(df_clean['Time'].values.reshape(-1, 1))\n",
        "df_clean['amount'] = amount_scaler.fit_transform(df_clean['Amount'].values.reshape(-1, 1))\n",
        "\n",
        "# remover colunas antigas\n",
        "X_train = df_clean.drop(['Time', 'Amount'], axis=1, inplace=False)\n",
        "\n",
        "# ver 5 primeiras entradas\n",
        "X_train.head()"
      ],
      "execution_count": 16,
      "outputs": [
        {
          "output_type": "execute_result",
          "data": {
            "text/html": [
              "<div>\n",
              "<style scoped>\n",
              "    .dataframe tbody tr th:only-of-type {\n",
              "        vertical-align: middle;\n",
              "    }\n",
              "\n",
              "    .dataframe tbody tr th {\n",
              "        vertical-align: top;\n",
              "    }\n",
              "\n",
              "    .dataframe thead th {\n",
              "        text-align: right;\n",
              "    }\n",
              "</style>\n",
              "<table border=\"1\" class=\"dataframe\">\n",
              "  <thead>\n",
              "    <tr style=\"text-align: right;\">\n",
              "      <th></th>\n",
              "      <th>V1</th>\n",
              "      <th>V2</th>\n",
              "      <th>V3</th>\n",
              "      <th>V4</th>\n",
              "      <th>V5</th>\n",
              "      <th>V6</th>\n",
              "      <th>V7</th>\n",
              "      <th>V8</th>\n",
              "      <th>V9</th>\n",
              "      <th>V10</th>\n",
              "      <th>V11</th>\n",
              "      <th>V12</th>\n",
              "      <th>V13</th>\n",
              "      <th>V14</th>\n",
              "      <th>V15</th>\n",
              "      <th>V16</th>\n",
              "      <th>V17</th>\n",
              "      <th>V18</th>\n",
              "      <th>V19</th>\n",
              "      <th>V20</th>\n",
              "      <th>V21</th>\n",
              "      <th>V22</th>\n",
              "      <th>V23</th>\n",
              "      <th>V24</th>\n",
              "      <th>V25</th>\n",
              "      <th>V26</th>\n",
              "      <th>V27</th>\n",
              "      <th>V28</th>\n",
              "      <th>time</th>\n",
              "      <th>amount</th>\n",
              "    </tr>\n",
              "  </thead>\n",
              "  <tbody>\n",
              "    <tr>\n",
              "      <th>178495</th>\n",
              "      <td>-0.898280</td>\n",
              "      <td>1.182600</td>\n",
              "      <td>0.292244</td>\n",
              "      <td>-0.089799</td>\n",
              "      <td>2.237189</td>\n",
              "      <td>-0.618606</td>\n",
              "      <td>1.669437</td>\n",
              "      <td>-0.253790</td>\n",
              "      <td>-1.043827</td>\n",
              "      <td>-1.119159</td>\n",
              "      <td>1.054697</td>\n",
              "      <td>0.156295</td>\n",
              "      <td>-0.637226</td>\n",
              "      <td>-1.125450</td>\n",
              "      <td>-1.574904</td>\n",
              "      <td>0.035456</td>\n",
              "      <td>0.459620</td>\n",
              "      <td>0.593927</td>\n",
              "      <td>-0.690145</td>\n",
              "      <td>-0.003619</td>\n",
              "      <td>-0.018380</td>\n",
              "      <td>0.050924</td>\n",
              "      <td>-0.650468</td>\n",
              "      <td>0.576947</td>\n",
              "      <td>1.300363</td>\n",
              "      <td>-0.531076</td>\n",
              "      <td>-0.168530</td>\n",
              "      <td>-0.154417</td>\n",
              "      <td>0.605629</td>\n",
              "      <td>-0.350232</td>\n",
              "    </tr>\n",
              "    <tr>\n",
              "      <th>256259</th>\n",
              "      <td>-2.183954</td>\n",
              "      <td>2.578776</td>\n",
              "      <td>-1.695142</td>\n",
              "      <td>-0.656199</td>\n",
              "      <td>-0.633827</td>\n",
              "      <td>-1.150403</td>\n",
              "      <td>-0.212337</td>\n",
              "      <td>1.187690</td>\n",
              "      <td>0.295786</td>\n",
              "      <td>0.872888</td>\n",
              "      <td>0.493967</td>\n",
              "      <td>0.985518</td>\n",
              "      <td>-0.349851</td>\n",
              "      <td>1.278233</td>\n",
              "      <td>-0.194684</td>\n",
              "      <td>-0.066017</td>\n",
              "      <td>-0.157071</td>\n",
              "      <td>0.617441</td>\n",
              "      <td>0.065062</td>\n",
              "      <td>0.249128</td>\n",
              "      <td>0.423636</td>\n",
              "      <td>1.317877</td>\n",
              "      <td>0.118021</td>\n",
              "      <td>0.021958</td>\n",
              "      <td>-0.540670</td>\n",
              "      <td>-0.220510</td>\n",
              "      <td>0.522695</td>\n",
              "      <td>0.420429</td>\n",
              "      <td>1.321077</td>\n",
              "      <td>-0.350671</td>\n",
              "    </tr>\n",
              "    <tr>\n",
              "      <th>175453</th>\n",
              "      <td>-1.085533</td>\n",
              "      <td>-0.479028</td>\n",
              "      <td>0.757594</td>\n",
              "      <td>1.042508</td>\n",
              "      <td>1.407563</td>\n",
              "      <td>-0.468100</td>\n",
              "      <td>0.923885</td>\n",
              "      <td>-0.821988</td>\n",
              "      <td>-0.010186</td>\n",
              "      <td>1.517752</td>\n",
              "      <td>1.082139</td>\n",
              "      <td>0.255925</td>\n",
              "      <td>0.186933</td>\n",
              "      <td>-0.264561</td>\n",
              "      <td>0.813819</td>\n",
              "      <td>-1.159167</td>\n",
              "      <td>-0.053072</td>\n",
              "      <td>0.130961</td>\n",
              "      <td>3.393524</td>\n",
              "      <td>0.216934</td>\n",
              "      <td>-0.450647</td>\n",
              "      <td>-0.141267</td>\n",
              "      <td>0.642683</td>\n",
              "      <td>-0.307175</td>\n",
              "      <td>-0.655749</td>\n",
              "      <td>0.525401</td>\n",
              "      <td>-0.476547</td>\n",
              "      <td>-0.164463</td>\n",
              "      <td>0.578067</td>\n",
              "      <td>-0.336281</td>\n",
              "    </tr>\n",
              "    <tr>\n",
              "      <th>284399</th>\n",
              "      <td>-1.467919</td>\n",
              "      <td>0.681668</td>\n",
              "      <td>0.282573</td>\n",
              "      <td>1.190918</td>\n",
              "      <td>0.969004</td>\n",
              "      <td>-0.917969</td>\n",
              "      <td>1.161332</td>\n",
              "      <td>0.094379</td>\n",
              "      <td>-1.382822</td>\n",
              "      <td>-0.728081</td>\n",
              "      <td>-0.990857</td>\n",
              "      <td>0.511417</td>\n",
              "      <td>0.813181</td>\n",
              "      <td>0.669389</td>\n",
              "      <td>-0.238447</td>\n",
              "      <td>-1.124991</td>\n",
              "      <td>0.413182</td>\n",
              "      <td>-0.395957</td>\n",
              "      <td>0.877652</td>\n",
              "      <td>0.345016</td>\n",
              "      <td>0.225867</td>\n",
              "      <td>0.320764</td>\n",
              "      <td>-0.378385</td>\n",
              "      <td>0.033769</td>\n",
              "      <td>1.192763</td>\n",
              "      <td>-0.196503</td>\n",
              "      <td>-0.090075</td>\n",
              "      <td>-0.118078</td>\n",
              "      <td>1.632938</td>\n",
              "      <td>0.020403</td>\n",
              "    </tr>\n",
              "    <tr>\n",
              "      <th>263694</th>\n",
              "      <td>2.038355</td>\n",
              "      <td>-0.368271</td>\n",
              "      <td>-0.683870</td>\n",
              "      <td>0.234597</td>\n",
              "      <td>-0.118045</td>\n",
              "      <td>0.250019</td>\n",
              "      <td>-0.608410</td>\n",
              "      <td>0.026681</td>\n",
              "      <td>1.368307</td>\n",
              "      <td>-0.198968</td>\n",
              "      <td>-1.517874</td>\n",
              "      <td>0.688166</td>\n",
              "      <td>1.190667</td>\n",
              "      <td>-0.441499</td>\n",
              "      <td>0.471563</td>\n",
              "      <td>0.275366</td>\n",
              "      <td>-0.846679</td>\n",
              "      <td>0.363028</td>\n",
              "      <td>0.054111</td>\n",
              "      <td>-0.107616</td>\n",
              "      <td>0.149577</td>\n",
              "      <td>0.699509</td>\n",
              "      <td>0.051334</td>\n",
              "      <td>0.081303</td>\n",
              "      <td>0.052978</td>\n",
              "      <td>-0.206048</td>\n",
              "      <td>0.041831</td>\n",
              "      <td>-0.034809</td>\n",
              "      <td>1.394048</td>\n",
              "      <td>-0.314295</td>\n",
              "    </tr>\n",
              "  </tbody>\n",
              "</table>\n",
              "</div>"
            ],
            "text/plain": [
              "              V1        V2        V3  ...       V28      time    amount\n",
              "178495 -0.898280  1.182600  0.292244  ... -0.154417  0.605629 -0.350232\n",
              "256259 -2.183954  2.578776 -1.695142  ...  0.420429  1.321077 -0.350671\n",
              "175453 -1.085533 -0.479028  0.757594  ... -0.164463  0.578067 -0.336281\n",
              "284399 -1.467919  0.681668  0.282573  ... -0.118078  1.632938  0.020403\n",
              "263694  2.038355 -0.368271 -0.683870  ... -0.034809  1.394048 -0.314295\n",
              "\n",
              "[5 rows x 30 columns]"
            ]
          },
          "metadata": {},
          "execution_count": 16
        }
      ]
    },
    {
      "cell_type": "markdown",
      "metadata": {
        "id": "OePLLChG_jMD"
      },
      "source": [
        "Com nosso `scaler` preparado, vamos realizar a mesma transformação para os dados de validação:"
      ]
    },
    {
      "cell_type": "code",
      "metadata": {
        "colab": {
          "base_uri": "https://localhost:8080/",
          "height": 224
        },
        "id": "foLtNial_yoi",
        "outputId": "6151b516-30cb-4ba1-f6c5-328eaac99241"
      },
      "source": [
        "# copiar dados\n",
        "df_clean = X_val.copy()\n",
        "\n",
        "# criar colunas time e amount padronizadas\n",
        "df_clean['time'] = time_scaler.transform(df_clean['Time'].values.reshape(-1,1))\n",
        "df_clean['amount'] = amount_scaler.transform(df_clean['Amount'].values.reshape(-1,1))\n",
        "\n",
        "# remover colunas antigas\n",
        "X_val = df_clean.drop(['Time', 'Amount'], axis=1, inplace=False)\n",
        "\n",
        "# ver as 5 primeiras entradas\n",
        "X_val.head()"
      ],
      "execution_count": 17,
      "outputs": [
        {
          "output_type": "execute_result",
          "data": {
            "text/html": [
              "<div>\n",
              "<style scoped>\n",
              "    .dataframe tbody tr th:only-of-type {\n",
              "        vertical-align: middle;\n",
              "    }\n",
              "\n",
              "    .dataframe tbody tr th {\n",
              "        vertical-align: top;\n",
              "    }\n",
              "\n",
              "    .dataframe thead th {\n",
              "        text-align: right;\n",
              "    }\n",
              "</style>\n",
              "<table border=\"1\" class=\"dataframe\">\n",
              "  <thead>\n",
              "    <tr style=\"text-align: right;\">\n",
              "      <th></th>\n",
              "      <th>V1</th>\n",
              "      <th>V2</th>\n",
              "      <th>V3</th>\n",
              "      <th>V4</th>\n",
              "      <th>V5</th>\n",
              "      <th>V6</th>\n",
              "      <th>V7</th>\n",
              "      <th>V8</th>\n",
              "      <th>V9</th>\n",
              "      <th>V10</th>\n",
              "      <th>V11</th>\n",
              "      <th>V12</th>\n",
              "      <th>V13</th>\n",
              "      <th>V14</th>\n",
              "      <th>V15</th>\n",
              "      <th>V16</th>\n",
              "      <th>V17</th>\n",
              "      <th>V18</th>\n",
              "      <th>V19</th>\n",
              "      <th>V20</th>\n",
              "      <th>V21</th>\n",
              "      <th>V22</th>\n",
              "      <th>V23</th>\n",
              "      <th>V24</th>\n",
              "      <th>V25</th>\n",
              "      <th>V26</th>\n",
              "      <th>V27</th>\n",
              "      <th>V28</th>\n",
              "      <th>time</th>\n",
              "      <th>amount</th>\n",
              "    </tr>\n",
              "  </thead>\n",
              "  <tbody>\n",
              "    <tr>\n",
              "      <th>67884</th>\n",
              "      <td>-1.833313</td>\n",
              "      <td>1.145371</td>\n",
              "      <td>2.109629</td>\n",
              "      <td>-0.391576</td>\n",
              "      <td>-0.902006</td>\n",
              "      <td>-0.295521</td>\n",
              "      <td>-0.081320</td>\n",
              "      <td>0.492323</td>\n",
              "      <td>0.513200</td>\n",
              "      <td>-0.537010</td>\n",
              "      <td>-0.967515</td>\n",
              "      <td>0.377201</td>\n",
              "      <td>0.228145</td>\n",
              "      <td>-0.534384</td>\n",
              "      <td>-0.358004</td>\n",
              "      <td>0.339260</td>\n",
              "      <td>-0.273886</td>\n",
              "      <td>-0.204454</td>\n",
              "      <td>-0.493948</td>\n",
              "      <td>-0.064123</td>\n",
              "      <td>-0.066464</td>\n",
              "      <td>-0.020381</td>\n",
              "      <td>-0.243628</td>\n",
              "      <td>0.433933</td>\n",
              "      <td>0.267512</td>\n",
              "      <td>0.267715</td>\n",
              "      <td>-0.710270</td>\n",
              "      <td>-0.445251</td>\n",
              "      <td>-0.888735</td>\n",
              "      <td>-0.291590</td>\n",
              "    </tr>\n",
              "    <tr>\n",
              "      <th>234244</th>\n",
              "      <td>2.131337</td>\n",
              "      <td>-1.338068</td>\n",
              "      <td>-0.981030</td>\n",
              "      <td>-1.755924</td>\n",
              "      <td>-0.805915</td>\n",
              "      <td>0.211167</td>\n",
              "      <td>-1.143436</td>\n",
              "      <td>0.162138</td>\n",
              "      <td>0.532409</td>\n",
              "      <td>0.553114</td>\n",
              "      <td>-0.578899</td>\n",
              "      <td>-0.078156</td>\n",
              "      <td>-0.579531</td>\n",
              "      <td>0.111699</td>\n",
              "      <td>0.257902</td>\n",
              "      <td>-0.762601</td>\n",
              "      <td>-0.754100</td>\n",
              "      <td>1.938448</td>\n",
              "      <td>0.346672</td>\n",
              "      <td>-0.537209</td>\n",
              "      <td>-0.605334</td>\n",
              "      <td>-1.268745</td>\n",
              "      <td>0.302703</td>\n",
              "      <td>-1.504650</td>\n",
              "      <td>-0.648465</td>\n",
              "      <td>0.400034</td>\n",
              "      <td>-0.026629</td>\n",
              "      <td>-0.063068</td>\n",
              "      <td>1.116365</td>\n",
              "      <td>-0.194335</td>\n",
              "    </tr>\n",
              "    <tr>\n",
              "      <th>151098</th>\n",
              "      <td>-1.803809</td>\n",
              "      <td>1.894925</td>\n",
              "      <td>0.592898</td>\n",
              "      <td>-0.893600</td>\n",
              "      <td>1.376146</td>\n",
              "      <td>0.562466</td>\n",
              "      <td>1.253926</td>\n",
              "      <td>-0.468146</td>\n",
              "      <td>1.616257</td>\n",
              "      <td>0.550130</td>\n",
              "      <td>1.371187</td>\n",
              "      <td>-1.528107</td>\n",
              "      <td>2.862469</td>\n",
              "      <td>0.799862</td>\n",
              "      <td>-1.365402</td>\n",
              "      <td>-0.588273</td>\n",
              "      <td>-0.197063</td>\n",
              "      <td>0.327337</td>\n",
              "      <td>1.144474</td>\n",
              "      <td>0.370501</td>\n",
              "      <td>-0.536899</td>\n",
              "      <td>-0.725073</td>\n",
              "      <td>-0.513627</td>\n",
              "      <td>-0.200361</td>\n",
              "      <td>0.758914</td>\n",
              "      <td>-0.570133</td>\n",
              "      <td>-1.546912</td>\n",
              "      <td>-1.058285</td>\n",
              "      <td>-0.006357</td>\n",
              "      <td>-0.317933</td>\n",
              "    </tr>\n",
              "    <tr>\n",
              "      <th>88003</th>\n",
              "      <td>-1.728633</td>\n",
              "      <td>1.267371</td>\n",
              "      <td>-0.896276</td>\n",
              "      <td>-1.934400</td>\n",
              "      <td>2.776395</td>\n",
              "      <td>3.039029</td>\n",
              "      <td>0.591532</td>\n",
              "      <td>0.484822</td>\n",
              "      <td>0.106039</td>\n",
              "      <td>0.614906</td>\n",
              "      <td>-0.282881</td>\n",
              "      <td>-0.310957</td>\n",
              "      <td>-0.217177</td>\n",
              "      <td>-0.009151</td>\n",
              "      <td>0.247167</td>\n",
              "      <td>0.447076</td>\n",
              "      <td>-1.254176</td>\n",
              "      <td>-0.053732</td>\n",
              "      <td>-0.551511</td>\n",
              "      <td>-0.096710</td>\n",
              "      <td>-0.002430</td>\n",
              "      <td>-0.176351</td>\n",
              "      <td>-0.133665</td>\n",
              "      <td>1.013911</td>\n",
              "      <td>0.038683</td>\n",
              "      <td>-0.003433</td>\n",
              "      <td>-1.273864</td>\n",
              "      <td>-0.231916</td>\n",
              "      <td>-0.694749</td>\n",
              "      <td>-0.318253</td>\n",
              "    </tr>\n",
              "    <tr>\n",
              "      <th>125342</th>\n",
              "      <td>-7.139060</td>\n",
              "      <td>2.773082</td>\n",
              "      <td>-6.757845</td>\n",
              "      <td>4.446456</td>\n",
              "      <td>-5.464428</td>\n",
              "      <td>-1.713401</td>\n",
              "      <td>-6.485365</td>\n",
              "      <td>3.409395</td>\n",
              "      <td>-3.053493</td>\n",
              "      <td>-6.260706</td>\n",
              "      <td>2.394168</td>\n",
              "      <td>-6.163537</td>\n",
              "      <td>0.602851</td>\n",
              "      <td>-5.606346</td>\n",
              "      <td>0.206622</td>\n",
              "      <td>-6.525081</td>\n",
              "      <td>-11.408368</td>\n",
              "      <td>-4.693978</td>\n",
              "      <td>2.431274</td>\n",
              "      <td>-0.616949</td>\n",
              "      <td>1.303250</td>\n",
              "      <td>-0.016118</td>\n",
              "      <td>-0.876670</td>\n",
              "      <td>0.382230</td>\n",
              "      <td>-1.054624</td>\n",
              "      <td>-0.614606</td>\n",
              "      <td>-0.766848</td>\n",
              "      <td>0.409424</td>\n",
              "      <td>-0.364239</td>\n",
              "      <td>0.073088</td>\n",
              "    </tr>\n",
              "  </tbody>\n",
              "</table>\n",
              "</div>"
            ],
            "text/plain": [
              "              V1        V2        V3  ...       V28      time    amount\n",
              "67884  -1.833313  1.145371  2.109629  ... -0.445251 -0.888735 -0.291590\n",
              "234244  2.131337 -1.338068 -0.981030  ... -0.063068  1.116365 -0.194335\n",
              "151098 -1.803809  1.894925  0.592898  ... -1.058285 -0.006357 -0.317933\n",
              "88003  -1.728633  1.267371 -0.896276  ... -0.231916 -0.694749 -0.318253\n",
              "125342 -7.139060  2.773082 -6.757845  ...  0.409424 -0.364239  0.073088\n",
              "\n",
              "[5 rows x 30 columns]"
            ]
          },
          "metadata": {},
          "execution_count": 17
        }
      ]
    },
    {
      "cell_type": "markdown",
      "metadata": {
        "id": "a3QpSQ0SV4Ni"
      },
      "source": [
        "### Balanceamento dos Dados\n",
        "\n",
        "Como vimos durante a análise exploratória, nosso conjunto de dados está muito desbalanceado (apenas 0.17% dos dados estão classificados como fraude), isso pode prejudicar o treinamento nosso modelo. O balanceamento tem como objetivo equalizar as quantidades de exemplos para cada variável alvo.\n",
        "\n",
        "Podemos balancear os dados de duas maneiras:\n",
        "1. *under-sampling*: removem-se os registros da classe majoritária.\n",
        "2. *over-sampling*: adicionam-se registros da classe minoritária.\n",
        "\n",
        "Realizaremos o balanceamento com ambas as técnicas a fim de termos um comparativo de desempenho para ambos os casos. Utilizaremos as classe `RandomUnderSampler` e `RandomOverSampler` ambas da biblioteca `imblearn` que realizam o balanceamento selecionando exemplos de maneira aleatória."
      ]
    },
    {
      "cell_type": "code",
      "metadata": {
        "id": "qdhdYherW3jj"
      },
      "source": [
        "# importar pacotes necessários\n",
        "from imblearn.under_sampling import RandomUnderSampler\n",
        "from imblearn.over_sampling import RandomOverSampler\n",
        "\n",
        "rus = RandomUnderSampler()\n",
        "ros = RandomOverSampler()\n",
        "X_rus, y_rus = rus.fit_sample(X_train, y_train)\n",
        "X_ros, y_ros = ros.fit_sample(X_train, y_train)"
      ],
      "execution_count": 18,
      "outputs": []
    },
    {
      "cell_type": "markdown",
      "metadata": {
        "id": "h1WMUtk9XZZ0"
      },
      "source": [
        "Os dados balanceados ficaram divididos da seguinte forma:\n",
        "\n",
        "* *Under-sampling*: 313 registros de cada classe\n",
        "* *Over-sampling*: 181251 registros de cada classe\n",
        "\n",
        "Comparando os gráficos de distribuição das classes dos dados balanceados com o mesmo gráfico dos dados originais (que pode ser visto no início dessa análise), vemos que, agora, temos a mesma quantidade de registros para cada classe.\n",
        "\n",
        "Vale ressaltar ainda que o cenário mais próximo do real é para os dados balanceados com a técnica de *under-sampling* uma vez que utiliza-se apenas dos dados reais, e não de dados \"fabricados\", no entanto, para efeitos comparativos iremos utilizar ambos para treinar nossos modelos e ver qual deles tem melhor desempenho."
      ]
    },
    {
      "cell_type": "code",
      "metadata": {
        "colab": {
          "base_uri": "https://localhost:8080/",
          "height": 611
        },
        "id": "2UBYE7UuXo5Z",
        "outputId": "f103abdc-461f-48a3-c7f1-2db00992211e"
      },
      "source": [
        "# ver quantidade de registros de cada classe\n",
        "print(f'Under sampling:\\n{pd.Series(y_rus).value_counts()}')\n",
        "print(f'\\nOver sampling:\\n{pd.Series(y_ros).value_counts()}\\n')\n",
        "\n",
        "# visualizar balanceamento do dataset atualizado\n",
        "fig, ax = plt.subplots(nrows=1, ncols=2, figsize=(10,6))\n",
        "\n",
        "ax[0].set_xlabel('class')\n",
        "ax[1].set_xlabel('class')\n",
        "\n",
        "ax[0].set_ylabel('examples')\n",
        "ax[1].set_ylabel('examples')\n",
        "\n",
        "ax[0].set_title('Under sampling')\n",
        "ax[1].set_title('Over sampling')\n",
        "\n",
        "sns.countplot(y_rus, ax=ax[0])\n",
        "sns.countplot(y_ros, ax=ax[1])\n",
        "\n",
        "plt.savefig('compare_samples.png')\n",
        "\n",
        "plt.tight_layout()"
      ],
      "execution_count": 19,
      "outputs": [
        {
          "output_type": "stream",
          "name": "stdout",
          "text": [
            "Under sampling:\n",
            "1    313\n",
            "0    313\n",
            "dtype: int64\n",
            "\n",
            "Over sampling:\n",
            "1    181251\n",
            "0    181251\n",
            "dtype: int64\n",
            "\n"
          ]
        },
        {
          "output_type": "display_data",
          "data": {
            "image/png": "[encoded data removed]",
            "text/plain": [
              "<Figure size 720x432 with 2 Axes>"
            ]
          },
          "metadata": {}
        }
      ]
    },
    {
      "cell_type": "markdown",
      "metadata": {
        "id": "yCmDTclQYJq5"
      },
      "source": [
        "### Correlação\n",
        "\n",
        "Antes de iniciarmos a construção dos nossos modelos, vamos ver como era e como ficou a relação entre as variáveis através de uma matriz de correlação, lembrando que quanto mais próximo de vermelho mais forte a correlação positiva e quanto mais próximo do azul escuro mais forte a correlação negativa."
      ]
    },
    {
      "cell_type": "code",
      "metadata": {
        "colab": {
          "base_uri": "https://localhost:8080/",
          "height": 625
        },
        "id": "37chq8sEYR16",
        "outputId": "90cf20a2-37ba-405f-dcc1-923dadc08696"
      },
      "source": [
        "# matriz de correlação dos dados originais\n",
        "corr = X_train.corr()\n",
        "\n",
        "# correlação dos dados balanceados\n",
        "corr_rus = pd.DataFrame(X_rus).corr()\n",
        "\n",
        "# plotar matriz de correlação\n",
        "fig, ax = plt.subplots(nrows=1, ncols=2, figsize = (18,8))\n",
        "fig.suptitle('Matriz de Correlação', y=1.05)\n",
        "\n",
        "sns.heatmap(corr, xticklabels=corr.columns, yticklabels=corr.columns,\n",
        "            linewidths=.1, cmap=\"coolwarm\", ax=ax[0])\n",
        "ax[0].set_title('Desbalanceado')\n",
        "\n",
        "sns.heatmap(corr_rus, xticklabels=corr.columns, yticklabels=corr.columns,\n",
        "            linewidths=.1, cmap=\"coolwarm\", ax=ax[1])\n",
        "ax[1].set_title('Balanceado')\n",
        "\n",
        "plt.tight_layout()"
      ],
      "execution_count": 20,
      "outputs": [
        {
          "output_type": "display_data",
          "data": {
            "image/png": "[encoded data removed]",
            "text/plain": [
              "<Figure size 1296x576 with 4 Axes>"
            ]
          },
          "metadata": {}
        }
      ]
    },
    {
      "cell_type": "markdown",
      "metadata": {
        "id": "i24s6tPMYlTN"
      },
      "source": [
        "Como os dados originais estavam desbalanceados, vemos que a matriz de correlação para esses dados (gráfico da esquerda) não nos revela muita informação, uma vez que indica que quase nenhuma variável está correlacionada.\n",
        "\n",
        "No entanto, após o balanceamento (gráfico da direita) fica evidente a relação das variáveis, como exemplo podemos citar a relação entre as variáveis `V3` e `V1`."
      ]
    },
    {
      "cell_type": "markdown",
      "metadata": {
        "id": "wJNH5qcjRxfX"
      },
      "source": [
        "## Modelo de Machine Learning\n",
        "\n",
        "Com os dados balanceados podemos seguir com a construção dos nossos modelos de Machine Learning. Como estamos lidando com um problema de classificação binária (ou seja o alvo pode assumir apenas 2 valores - 0 ou 1) iremos realizar um comparativo entre dois modelos: regressão logística e árvores de decisão.\n",
        "\n",
        "Iremos treinar cada modelo da seguinte maneira: utilizando os dados originais, balanceados com *under-sampling* e balanceados com *over-sampling* e comparar os resultados do algoritmo treinado nas diferentes condições.\n",
        "\n",
        "Em seguida iremos comparar os modelos entre si para avaliar qual tem o melhor desempenho.\n",
        "\n",
        "**NOTA:** nesse momento não nos preocuparemos com o *tunning* dos parâmetros do modelo."
      ]
    },
    {
      "cell_type": "markdown",
      "metadata": {
        "id": "HQ8clehwLLiW"
      },
      "source": [
        "### Modelo de Regressão Logística\n",
        "\n",
        "Por se utilizar da função sigmoide $\\frac{1}{1+e^{-z}}$, o modelo de regressão logística mapeia os valores no intervalo [0, 1], sendo um dos mais utilizados para problemas de classificação binária (por exemplo: classificação de spam ou fraude).\n",
        "\n",
        "Começando com os dados originais:"
      ]
    },
    {
      "cell_type": "code",
      "metadata": {
        "id": "lDySx8XUSMw_"
      },
      "source": [
        "# Treinamento do modelo com dados originais\n",
        "\n",
        "# 1. importar modelo\n",
        "from sklearn.linear_model import LogisticRegression\n",
        "\n",
        "# 2. instanciar modelo e escolher hiperparametros\n",
        "model_reg_ori = LogisticRegression()\n",
        "\n",
        "# 3. separar os dados entre featrure matrix e target\n",
        "X_reg_ori = X_train\n",
        "y_reg_ori = y_train\n",
        "\n",
        "# 4. treinar modelo\n",
        "model_reg_ori.fit(X_reg_ori, y_reg_ori)\n",
        "\n",
        "# 5. fazer previsões em cima dos dados de validação\n",
        "y_pred_reg_ori = model_reg_ori.predict(X_val)\n",
        "y_proba_reg_ori = model_reg_ori.predict_proba(X_val)"
      ],
      "execution_count": 21,
      "outputs": []
    },
    {
      "cell_type": "markdown",
      "metadata": {
        "id": "4bPR7EVLRp4-"
      },
      "source": [
        "Em seguida vamos treinar o modelo utilizando os dados balanceados utilizando o método de *under-sampling*.\n",
        "\n",
        "Iremos criar uma nova instância do modelo para evitar quaisquer vazamentos do treinamento anterior."
      ]
    },
    {
      "cell_type": "code",
      "metadata": {
        "id": "_LPxGbWhSgF5"
      },
      "source": [
        "# 2. instanciar modelo e escolher hiperparametros\n",
        "model_reg_rus = LogisticRegression()\n",
        "\n",
        "# 3. separar os dados entre featrure matrix e target\n",
        "X_reg_rus = X_rus\n",
        "y_reg_rus = y_rus\n",
        "\n",
        "# 4. treinar modelo\n",
        "model_reg_rus.fit(X_reg_rus, y_reg_rus)\n",
        "\n",
        "# 5. fazer previsões em cima dos dados de validação\n",
        "y_pred_reg_rus = model_reg_rus.predict(X_val)\n",
        "y_proba_reg_rus = model_reg_rus.predict_proba(X_val)"
      ],
      "execution_count": 22,
      "outputs": []
    },
    {
      "cell_type": "markdown",
      "metadata": {
        "id": "MO4_NZV4TcaF"
      },
      "source": [
        "Por fim iremos treinar o modelo de regressão utilizando os dados balanceados utilizando o método de *over-sampling*."
      ]
    },
    {
      "cell_type": "code",
      "metadata": {
        "id": "xQ4gRvBBTq0H"
      },
      "source": [
        "# 2. instanciar modelo e escolher hiperparametros\n",
        "model_reg_ros = LogisticRegression()\n",
        "\n",
        "# 3. separar os dados entre featrure matrix e target\n",
        "X_reg_ros = X_ros\n",
        "y_reg_ros = y_ros\n",
        "\n",
        "# 4. treinar modelo\n",
        "model_reg_ros.fit(X_reg_ros, y_reg_ros)\n",
        "\n",
        "# 5. fazer previsões em cima dos dados de validação\n",
        "y_pred_reg_ros = model_reg_ros.predict(X_val)\n",
        "y_proba_reg_ros = model_reg_ros.predict_proba(X_val)"
      ],
      "execution_count": 23,
      "outputs": []
    },
    {
      "cell_type": "markdown",
      "metadata": {
        "id": "zsVZVcvCT3M_"
      },
      "source": [
        "#### Avaliando o modelo\n",
        "\n",
        "No modelo de `Regressão Logística` utilizamos, como métrica de avaliação de desempenho, os indicadores de `precision`, `recall` e `f1-score`. Essas métricas são obtidas através da função `classification_report` disponível no `sklearn`.\n",
        "\n",
        "A `precision` nos diz a quantidade proporcional de identificações positivas feitas corretamente, ou seja, dentre as previsões marcadas **positivo**, qual foi o percentual de acerto do algoritmo. Obtido pela equação: \n",
        "\n",
        "$$\\frac{TP}{TP+FP}$$\n",
        "\n",
        "O `recall` nos diz a proporção de positivos encontrado corretamente, ou seja, dos dados **reais positivos**, qual proporção deles foi realmente marcado como positivo, e é dado pela equação: \n",
        "\n",
        "$$\\frac{TP}{TP+FN}$$\n",
        "\n",
        "O `F1-score` é a média harmônica entre `precision` e `recall`e nos dá uma boa ideia do desempenho do nosso algoritmo. É obtido pela equação: \n",
        "\n",
        "$${2}\\cdot{\\frac{precision \\cdot recall}{precision+recall}}$$\n",
        "\n",
        "Onde:\n",
        "* TP = true positive (previsões positivas corretas)\n",
        "* FP = false positive (previsões positivas incorretas)\n",
        "* FN = false negative (previsões negativas incorretas)\n",
        "* TN = true negative (previsões negativas corretas)\n",
        "\n",
        "Outra métrica interessante, e que indiretamente utiliza-se dos conceitos acima abordados é a *AUC ROC*. Vamos começar definindo essas métricas:\n",
        "\n",
        "* *ROC* ou *Receiver Operation Characteristic* traça uma curva baseada nas taxas de verdadeiro positivo e falso positivo.\n",
        "* *AUC* ou *Area Under the Curve* é uma métrica que traduz a curva *ROC* em um número através do cálculo, como o nome sugere, da área sob a curva *ROC*.\n",
        "\n",
        "Agora que definimos nossas métricas, vamos ver qual foi o desempenho de cada um dos nossos modelos."
      ]
    },
    {
      "cell_type": "code",
      "metadata": {
        "colab": {
          "base_uri": "https://localhost:8080/",
          "height": 501
        },
        "id": "INqMyVBOanJf",
        "outputId": "1569bfd0-7b4b-40b9-a5b3-edeeaa6bfc05"
      },
      "source": [
        "# importando pacotes necessários\n",
        "from sklearn.metrics import confusion_matrix, classification_report, roc_auc_score, accuracy_score\n",
        "\n",
        "# avaliando o desempenho do modelo treinado com dataset original\n",
        "print(f'Relatório de classificação:\\n{classification_report(y_val, y_pred_reg_ori, digits=4)}')\n",
        "\n",
        "# avaliando AUC do modelo\n",
        "print(\"AUC ROC: {:.4f}\\n\".format(roc_auc_score(y_val, y_pred_reg_ori)))\n",
        "\n",
        "# matriz de confusão\n",
        "fig, ax = plt.subplots()\n",
        "\n",
        "sns.heatmap(confusion_matrix(y_val, y_pred_reg_ori, normalize='true'), cmap='Blues', annot=True, ax=ax)\n",
        "\n",
        "ax.set_ylabel(\"Valores reais\")\n",
        "ax.set_xlabel(\"Valores previstos\")\n",
        "\n",
        "# plt.savefig('results-reg-ori.png')\n",
        "\n",
        "plt.tight_layout()"
      ],
      "execution_count": 42,
      "outputs": [
        {
          "output_type": "stream",
          "name": "stdout",
          "text": [
            "Relatório de classificação:\n",
            "              precision    recall  f1-score   support\n",
            "\n",
            "           0     0.9995    0.9998    0.9996     60417\n",
            "           1     0.8488    0.6952    0.7644       105\n",
            "\n",
            "    accuracy                         0.9993     60522\n",
            "   macro avg     0.9242    0.8475    0.8820     60522\n",
            "weighted avg     0.9992    0.9993    0.9992     60522\n",
            "\n",
            "AUC ROC: 0.8475\n",
            "\n"
          ]
        },
        {
          "output_type": "display_data",
          "data": {
            "image/png": "[encoded data removed]",
            "text/plain": [
              "<Figure size 432x288 with 2 Axes>"
            ]
          },
          "metadata": {}
        }
      ]
    },
    {
      "cell_type": "markdown",
      "metadata": {
        "id": "4rFKElEUdlAC"
      },
      "source": [
        "Apesar de nosso modelo indicar uma acurácia global de 99%, vemos pela matriz de confusão que nosso modelo classificou corretamente apenas 70% das transações fraudulentas enquanto que 30% das transações legítimas foram classificadas como fraude.\n",
        "\n",
        "A seguir vamos avaliar o desempenho do modelo treinado com os dados balanceados utilizando a técnica de *under-sampling*."
      ]
    },
    {
      "cell_type": "code",
      "metadata": {
        "colab": {
          "base_uri": "https://localhost:8080/",
          "height": 501
        },
        "id": "MfjvV7oCgLgS",
        "outputId": "f88dd426-45dc-49c7-adf9-3d1c7068cfdf"
      },
      "source": [
        "# avaliando o desempenho do modelo treinado com dataset balanceado com random under sampler\n",
        "print(f'Relatório de classificação:\\n{classification_report(y_val, y_pred_reg_rus, digits=4)}')\n",
        "\n",
        "# avaliando AUC do modelo\n",
        "print(\"AUC ROC: {:.4f}\\n\".format(roc_auc_score(y_val, y_pred_reg_rus)))\n",
        "\n",
        "# matriz de confusão\n",
        "fig, ax = plt.subplots()\n",
        "\n",
        "sns.heatmap(confusion_matrix(y_val, y_pred_reg_rus, normalize='true'), cmap='Blues', annot=True, ax=ax)\n",
        "\n",
        "ax.set_ylabel(\"Valores reais\")\n",
        "ax.set_xlabel(\"Valores previstos\")\n",
        "\n",
        "# plt.savefig('results-rus.png')\n",
        "\n",
        "plt.tight_layout()"
      ],
      "execution_count": 43,
      "outputs": [
        {
          "output_type": "stream",
          "name": "stdout",
          "text": [
            "Relatório de classificação:\n",
            "              precision    recall  f1-score   support\n",
            "\n",
            "           0     0.9998    0.9687    0.9840     60417\n",
            "           1     0.0484    0.9143    0.0919       105\n",
            "\n",
            "    accuracy                         0.9686     60522\n",
            "   macro avg     0.5241    0.9415    0.5380     60522\n",
            "weighted avg     0.9982    0.9686    0.9825     60522\n",
            "\n",
            "AUC ROC: 0.9415\n",
            "\n"
          ]
        },
        {
          "output_type": "display_data",
          "data": {
            "image/png": "[encoded data removed]",
            "text/plain": [
              "<Figure size 432x288 with 2 Axes>"
            ]
          },
          "metadata": {}
        }
      ]
    },
    {
      "cell_type": "markdown",
      "metadata": {
        "id": "4f_LR6NrgYCK"
      },
      "source": [
        "Como era de se esperar, a acurácia global diminuiu (de 99,9% para 96,86%), pois agora utilizamos dados balanceados, sendo assim reduzimos o overfitting que nosso primeiro modelo tinha, principalmente com relação às transações legítimas - que possuiam muito mais registros do que fraudes. Em contrapartida nosso índice AUC ROC aumentou consideravelmente, saltando de 84,75% para 94,15%.\n",
        "\n",
        "Essa melhora pode ser vista na matriz de confusão em que nosso modelo passou a identificar corretamente 97% das transações legítimas e 91% das transações fraudulentas, assim a taxa de falsos positivos caiu para 8,6% e a taxa de falsos negativos subiu para 3,1%.\n",
        "\n",
        "Para efeitos de comparação, vamos avaliar o mesmo modelo treinado com dados balanceados pelo método *over-sampling*"
      ]
    },
    {
      "cell_type": "code",
      "metadata": {
        "colab": {
          "base_uri": "https://localhost:8080/",
          "height": 501
        },
        "id": "J-DGQRBehSJa",
        "outputId": "0bc38363-0c88-43d4-9b58-1ba930a14c06"
      },
      "source": [
        "# avaliando o desempenho do modelo treinado com dataset balanceado com random over sampler\n",
        "print(f'Relatório de classificação:\\n{classification_report(y_val, y_pred_reg_ros, digits=4)}')\n",
        "\n",
        "# avaliando AUC do modelo\n",
        "print(\"AUC ROC: {:.4f}\\n\".format(roc_auc_score(y_val, y_pred_reg_ros)))\n",
        "\n",
        "# matriz de confusão\n",
        "fig, ax = plt.subplots()\n",
        "\n",
        "sns.heatmap(confusion_matrix(y_val, y_pred_reg_ros, normalize='true'), cmap='Blues', annot=True, ax=ax)\n",
        "\n",
        "ax.set_ylabel(\"Valores reais\")\n",
        "ax.set_xlabel(\"Valores previstos\")\n",
        "\n",
        "# plt.savefig('results-reg-ros.png')\n",
        "\n",
        "plt.tight_layout()"
      ],
      "execution_count": 48,
      "outputs": [
        {
          "output_type": "stream",
          "name": "stdout",
          "text": [
            "Relatório de classificação:\n",
            "              precision    recall  f1-score   support\n",
            "\n",
            "           0     0.9998    0.9772    0.9884     60417\n",
            "           1     0.0640    0.8952    0.1194       105\n",
            "\n",
            "    accuracy                         0.9771     60522\n",
            "   macro avg     0.5319    0.9362    0.5539     60522\n",
            "weighted avg     0.9982    0.9771    0.9869     60522\n",
            "\n",
            "AUC ROC: 0.9362\n",
            "\n"
          ]
        },
        {
          "output_type": "display_data",
          "data": {
            "image/png": "[encoded data removed]",
            "text/plain": [
              "<Figure size 432x288 with 2 Axes>"
            ]
          },
          "metadata": {}
        }
      ]
    },
    {
      "cell_type": "markdown",
      "metadata": {
        "id": "b6heVpphhdc6"
      },
      "source": [
        "Podemos notar que o modelo treinado com dados balanceados com *over-sampling* apresentaram resultados semelhantes ao último: 97,71% de acurácia global e AUC ROC de 93,62%.\n",
        "\n",
        "Utilizando dados balanceados com *over-sampling*, notamos uma melhora na detecção correta de transações legítimas (e uma menor taxa de falsos negativos), no entanto, utilizando essa técnica de balanceamento nosso modelo teve uma taxa maior de falsos positivos, em resumo:\n",
        "\n",
        "* aumento na detecção correta de transações legítimas para 98%;\n",
        "* redução na detecção correta de transações fraudulentas para 90%\n",
        "* redução na taxa de falsos negativos 2,3%\n",
        "* aumento na taxa de falsos positivos 10%."
      ]
    },
    {
      "cell_type": "markdown",
      "metadata": {
        "id": "dajp50oMi6Er"
      },
      "source": [
        "### Modelo de Árvore de Decisão\n",
        "\n",
        "Conforme dissemos no início dessa seção, iremos realizar um comparativo entre dois algoritmos diferentes para que possamos avaliar qual deles se sai melhor com nosso conjunto de dados.\n",
        "\n",
        "As etapas serão as mesmas utilizadas no modelo de regressão a começar pelo treinamento do modelo utilizando os dados originais:\n",
        "\n",
        "\n"
      ]
    },
    {
      "cell_type": "code",
      "metadata": {
        "id": "E-DRW6qnjfSM"
      },
      "source": [
        "# importar pacotes necessários\n",
        "from sklearn.tree import DecisionTreeClassifier\n",
        "\n",
        "# 1. instanciar modelo\n",
        "model_tree_ori = DecisionTreeClassifier('entropy')\n",
        "\n",
        "# 3. separar os dados entre featrure matrix e target\n",
        "X_tree_ori = X_train\n",
        "y_tree_ori = y_train\n",
        "\n",
        "# 4. treinar modelo\n",
        "model_tree_ori.fit(X_tree_ori, y_tree_ori)\n",
        "\n",
        "# 5. fazer previsões em cima dos dados de validação\n",
        "y_pred_tree_ori = model_tree_ori.predict(X_val)\n",
        "y_proba_tree_ori = model_tree_ori.predict_proba(X_val)"
      ],
      "execution_count": 27,
      "outputs": []
    },
    {
      "cell_type": "markdown",
      "metadata": {
        "id": "NXQF9F7lkwRm"
      },
      "source": [
        "Seguindo com os dados balanceados com *under-sampling*:"
      ]
    },
    {
      "cell_type": "code",
      "metadata": {
        "id": "dk3mfE8pk2Ze"
      },
      "source": [
        "# 1. instanciar modelo\n",
        "model_tree_rus = DecisionTreeClassifier('entropy')\n",
        "\n",
        "# 3. separar os dados entre featrure matrix e target\n",
        "X_tree_rus = X_rus\n",
        "y_tree_rus = y_rus\n",
        "\n",
        "# 4. treinar modelo\n",
        "model_tree_rus.fit(X_tree_rus, y_tree_rus)\n",
        "\n",
        "# 5. fazer previsões sobre dos dados de validação\n",
        "y_pred_tree_rus = model_tree_rus.predict(X_val)\n",
        "y_proba_tree_rus = model_tree_rus.predict_proba(X_val)"
      ],
      "execution_count": 28,
      "outputs": []
    },
    {
      "cell_type": "markdown",
      "metadata": {
        "id": "eI_tmFOGlDaC"
      },
      "source": [
        "E por fim os dados balanceados com *over-sampling*:"
      ]
    },
    {
      "cell_type": "code",
      "metadata": {
        "id": "Y37PCpJFlIUJ"
      },
      "source": [
        "# 1. instanciar modelo\n",
        "model_tree_ros = DecisionTreeClassifier('entropy')\n",
        "\n",
        "# 3. separar os dados entre featrure matrix e target\n",
        "X_tree_ros = X_ros\n",
        "y_tree_ros = y_ros\n",
        "\n",
        "# 4. treinar modelo\n",
        "model_tree_ros.fit(X_tree_ros, y_tree_ros)\n",
        "\n",
        "# 5. fazer previsões sobre dos dados de validação\n",
        "y_pred_tree_ros = model_tree_ros.predict(X_val)\n",
        "y_proba_tree_ros = model_tree_ros.predict_proba(X_val)"
      ],
      "execution_count": 29,
      "outputs": []
    },
    {
      "cell_type": "markdown",
      "metadata": {
        "id": "pCIoLEWYlYFE"
      },
      "source": [
        "#### Avaliando o modelo\n",
        "\n",
        "Como o algoritmo de árvore de decisão também trata de classificações, utilizaremos as mesmas métricas para avaliar o desempenho do modelo.\n",
        "\n",
        "Começando pelo modelo treinado com o *dataset* original (desbalanceado):\n",
        "\n",
        "\n",
        "\n"
      ]
    },
    {
      "cell_type": "code",
      "metadata": {
        "colab": {
          "base_uri": "https://localhost:8080/",
          "height": 501
        },
        "id": "wWSGj2Yal7eT",
        "outputId": "e2d8e763-cd91-49ba-d68a-22a959af3f20"
      },
      "source": [
        "# avaliando o desempenho do modelo treinado com dataset original\n",
        "print(f'Relatório de classificação:\\n{classification_report(y_val, y_pred_tree_ori, digits=4)}')\n",
        "\n",
        "# avaliando AUC do modelo\n",
        "print(\"AUC ROC: {:.4f}\\n\".format(roc_auc_score(y_val, y_pred_tree_ori)))\n",
        "\n",
        "# matriz de confusão\n",
        "fig, ax = plt.subplots()\n",
        "\n",
        "sns.heatmap(confusion_matrix(y_val, y_pred_tree_ori, normalize='true'), cmap='Blues', annot=True, ax=ax)\n",
        "\n",
        "ax.set_ylabel(\"Valores reais\")\n",
        "ax.set_xlabel(\"Valores previstos\")\n",
        "\n",
        "# plt.savefig('results-tree-ori.png')\n",
        "\n",
        "plt.tight_layout()"
      ],
      "execution_count": 45,
      "outputs": [
        {
          "output_type": "stream",
          "name": "stdout",
          "text": [
            "Relatório de classificação:\n",
            "              precision    recall  f1-score   support\n",
            "\n",
            "           0     0.9997    0.9995    0.9996     60417\n",
            "           1     0.7456    0.8095    0.7763       105\n",
            "\n",
            "    accuracy                         0.9992     60522\n",
            "   macro avg     0.8726    0.9045    0.8879     60522\n",
            "weighted avg     0.9992    0.9992    0.9992     60522\n",
            "\n",
            "AUC ROC: 0.9045\n",
            "\n"
          ]
        },
        {
          "output_type": "display_data",
          "data": {
            "image/png": "[encoded data removed]",
            "text/plain": [
              "<Figure size 432x288 with 2 Axes>"
            ]
          },
          "metadata": {}
        }
      ]
    },
    {
      "cell_type": "code",
      "metadata": {
        "id": "rMJKKAR5zX_p"
      },
      "source": [
        "#@title\n",
        "# plotar arvore\n",
        "# from IPython.display import Image\n",
        "# from sklearn.tree import export_graphviz\n",
        "# import pydotplus\n",
        "\n",
        "# criar DOT \n",
        "# dot = export_graphviz(model_tree_ros, filled=True, rounded=True,\n",
        "#                       feature_names=X_train.columns, class_names=['0', '1'])\n",
        "\n",
        "# # plotar\n",
        "# graph = pydotplus.graph_from_dot_data(dot)  \n",
        "# Image(graph.create_png())\n",
        "# # graph.write('decision_tree.png', format='png')"
      ],
      "execution_count": 31,
      "outputs": []
    },
    {
      "cell_type": "markdown",
      "metadata": {
        "id": "_OuxMgSSmCqK"
      },
      "source": [
        "Notamos o mesmo comportamento que vimos no modelo de regressão: acurácia global de 99,9% porém AUC ROC de 90,45%.\n",
        "\n",
        "Ainda que com um desempenho ligeiramente superior que o modelo de regressão logística, o modelo de árvore de decisão apresentou resultados semelhantes quando analisamos os números de detecções de fraude feitas corretamente (81%) e falsos positivos (19%).\n",
        "\n",
        "Vamos analisar o desempenho desse mesmo modelo quando utilizamos os dados balanceados com *under-sampling*."
      ]
    },
    {
      "cell_type": "code",
      "metadata": {
        "colab": {
          "base_uri": "https://localhost:8080/",
          "height": 501
        },
        "id": "ACjaLfqZm8oL",
        "outputId": "87c58adf-b42c-4b0c-8cf6-314503f8a709"
      },
      "source": [
        "# avaliando o desempenho do modelo treinado com dataset balanceado com under sampling\n",
        "print(f'Relatório de classificação:\\n{classification_report(y_val, y_pred_tree_rus, digits=4)}')\n",
        "\n",
        "# avaliando AUC do modelo\n",
        "print(\"AUC ROC: {:.4f}\\n\".format(roc_auc_score(y_val, y_pred_tree_rus)))\n",
        "\n",
        "# matriz de confusão\n",
        "fig, ax = plt.subplots()\n",
        "\n",
        "sns.heatmap(confusion_matrix(y_val, y_pred_tree_rus, normalize='true'), cmap='Blues', annot=True, ax=ax)\n",
        "\n",
        "ax.set_ylabel(\"Valores reais\")\n",
        "ax.set_xlabel(\"Valores previstos\")\n",
        "\n",
        "# plt.savefig('results-tree-rus.png')\n",
        "\n",
        "plt.tight_layout()"
      ],
      "execution_count": 46,
      "outputs": [
        {
          "output_type": "stream",
          "name": "stdout",
          "text": [
            "Relatório de classificação:\n",
            "              precision    recall  f1-score   support\n",
            "\n",
            "           0     0.9998    0.8714    0.9312     60417\n",
            "           1     0.0121    0.9048    0.0238       105\n",
            "\n",
            "    accuracy                         0.8715     60522\n",
            "   macro avg     0.5059    0.8881    0.4775     60522\n",
            "weighted avg     0.9981    0.8715    0.9296     60522\n",
            "\n",
            "AUC ROC: 0.8881\n",
            "\n"
          ]
        },
        {
          "output_type": "display_data",
          "data": {
            "image/png": "[encoded data removed]",
            "text/plain": [
              "<Figure size 432x288 with 2 Axes>"
            ]
          },
          "metadata": {}
        }
      ]
    },
    {
      "cell_type": "markdown",
      "metadata": {
        "id": "DxePFMIfnNZU"
      },
      "source": [
        "Com os dados balanceados utilizando a técnica de *under-sampling* notamos uma melhora significativa se compararmos com o mesmo modelo treinado com dados desbalanceados. Em resumo temos:\n",
        "\n",
        "* piora do índice AUC ROC - de 90,45% para 88,81%;\n",
        "* redução da taxa de detecções de falsos positivos - de 19% para 9,5%;\n",
        "* aumento da taxa de detecções de transações fraudulentas - de 81% para 90%;\n",
        "\n",
        "Como era de se esperar notamos uma ligeira piora na detecção de transações legítimas (de aproximadamente 100% para 87%) e também na detecção de falsos negativos (de 0,05% para 13%). Esse comportamento era esperado pois, com dados desbalanceados tinhamos maior quantidade de transações, consequentemente o modelo estava otimizado para detectar transações legítimas.\n",
        "\n",
        "Por fim vamos avaliar o desempenho de um modelo de árvore de decisão com dados balanceados pela técnica de *over-sampling*."
      ]
    },
    {
      "cell_type": "code",
      "metadata": {
        "colab": {
          "base_uri": "https://localhost:8080/",
          "height": 501
        },
        "id": "EnTVnwqVoidr",
        "outputId": "a886bb3f-fb3b-4fa4-fcb8-d49f5c46f5df"
      },
      "source": [
        "# avaliando o desempenho do modelo treinado com dataset balanceado com under sampling\n",
        "print(f'Relatório de classificação:\\n{classification_report(y_val, y_pred_tree_ros, digits=4)}')\n",
        "\n",
        "# avaliando AUC do modelo\n",
        "print(\"AUC ROC: {:.4f}\\n\".format(roc_auc_score(y_val, y_pred_tree_ros)))\n",
        "\n",
        "# matriz de confusão\n",
        "fig, ax = plt.subplots()\n",
        "\n",
        "sns.heatmap(confusion_matrix(y_val, y_pred_tree_ros, normalize='true'), cmap='Blues', annot=True, ax=ax)\n",
        "\n",
        "ax.set_ylabel(\"Valores reais\")\n",
        "ax.set_xlabel(\"Valores previstos\")\n",
        "\n",
        "# plt.savefig('results-tree-ros.png')\n",
        "\n",
        "plt.tight_layout()"
      ],
      "execution_count": 47,
      "outputs": [
        {
          "output_type": "stream",
          "name": "stdout",
          "text": [
            "Relatório de classificação:\n",
            "              precision    recall  f1-score   support\n",
            "\n",
            "           0     0.9996    0.9995    0.9995     60417\n",
            "           1     0.7168    0.7714    0.7431       105\n",
            "\n",
            "    accuracy                         0.9991     60522\n",
            "   macro avg     0.8582    0.8854    0.8713     60522\n",
            "weighted avg     0.9991    0.9991    0.9991     60522\n",
            "\n",
            "AUC ROC: 0.8854\n",
            "\n"
          ]
        },
        {
          "output_type": "display_data",
          "data": {
            "image/png": "[encoded data removed]",
            "text/plain": [
              "<Figure size 432x288 with 2 Axes>"
            ]
          },
          "metadata": {}
        }
      ]
    },
    {
      "cell_type": "markdown",
      "metadata": {
        "id": "hLn5Ml1M6zmb"
      },
      "source": [
        "Diferente do que vimos anteriormente, o desempenho do modelo piorou quando utilizamos dados balanceados utilizando o método *over-sampling*.\n",
        "\n",
        "* o AUC ROC caiu para 88,54%;\n",
        "* a taxa de detecções falso positivas aumentou de 19 para 23%;\n",
        "* a taxa de transações fraudulentas classificadas corretamente caiu de 81% para 77%."
      ]
    },
    {
      "cell_type": "markdown",
      "metadata": {
        "id": "ShtJpxBYFpWO"
      },
      "source": [
        "### Realizando previsões em nosso conjunto de testes\n",
        "\n",
        "Após analisarmos o desempenho dos modelos, vamos utilizar o que apresentou os melhores resultados (`modelo_reg_ros`) para realizar previsões no conjunto de testes (os quais o modelo não teve contato) para validarmos se nosso modelo está genérico o suficiente, ou se temos um modelo muito específico (*overfitting*).\n",
        "\n",
        "Vale lembrar que, antes de realizarmos previsões, também precisamos normalizar os dados de teste, repetindo o mesmo procedimento realizados nos conjuntos de treino e validação."
      ]
    },
    {
      "cell_type": "code",
      "metadata": {
        "colab": {
          "base_uri": "https://localhost:8080/",
          "height": 224
        },
        "id": "rRAABtXkGk0H",
        "outputId": "2627087c-5f6e-430f-9195-f4e38abfcab9"
      },
      "source": [
        "# copiar dataframe\n",
        "test_clean = test.copy()\n",
        "\n",
        "# criar colunas time e amount padronizadas\n",
        "test_clean['time'] = time_scaler.fit_transform(test_clean['Time'].values.reshape(-1, 1))\n",
        "test_clean['amount'] = amount_scaler.fit_transform(test_clean['Amount'].values.reshape(-1, 1))\n",
        "\n",
        "# remover colunas antigas\n",
        "test_clean.drop(['Time', 'Amount'], axis=1, inplace=True)\n",
        "\n",
        "# ver 5 primeiras entradas\n",
        "test_clean.head()"
      ],
      "execution_count": 38,
      "outputs": [
        {
          "output_type": "execute_result",
          "data": {
            "text/html": [
              "<div>\n",
              "<style scoped>\n",
              "    .dataframe tbody tr th:only-of-type {\n",
              "        vertical-align: middle;\n",
              "    }\n",
              "\n",
              "    .dataframe tbody tr th {\n",
              "        vertical-align: top;\n",
              "    }\n",
              "\n",
              "    .dataframe thead th {\n",
              "        text-align: right;\n",
              "    }\n",
              "</style>\n",
              "<table border=\"1\" class=\"dataframe\">\n",
              "  <thead>\n",
              "    <tr style=\"text-align: right;\">\n",
              "      <th></th>\n",
              "      <th>V1</th>\n",
              "      <th>V2</th>\n",
              "      <th>V3</th>\n",
              "      <th>V4</th>\n",
              "      <th>V5</th>\n",
              "      <th>V6</th>\n",
              "      <th>V7</th>\n",
              "      <th>V8</th>\n",
              "      <th>V9</th>\n",
              "      <th>V10</th>\n",
              "      <th>V11</th>\n",
              "      <th>V12</th>\n",
              "      <th>V13</th>\n",
              "      <th>V14</th>\n",
              "      <th>V15</th>\n",
              "      <th>V16</th>\n",
              "      <th>V17</th>\n",
              "      <th>V18</th>\n",
              "      <th>V19</th>\n",
              "      <th>V20</th>\n",
              "      <th>V21</th>\n",
              "      <th>V22</th>\n",
              "      <th>V23</th>\n",
              "      <th>V24</th>\n",
              "      <th>V25</th>\n",
              "      <th>V26</th>\n",
              "      <th>V27</th>\n",
              "      <th>V28</th>\n",
              "      <th>Class</th>\n",
              "      <th>time</th>\n",
              "      <th>amount</th>\n",
              "    </tr>\n",
              "  </thead>\n",
              "  <tbody>\n",
              "    <tr>\n",
              "      <th>183484</th>\n",
              "      <td>-0.323334</td>\n",
              "      <td>1.057455</td>\n",
              "      <td>-0.048341</td>\n",
              "      <td>-0.607204</td>\n",
              "      <td>1.259821</td>\n",
              "      <td>-0.091761</td>\n",
              "      <td>1.159101</td>\n",
              "      <td>-0.124335</td>\n",
              "      <td>-0.174640</td>\n",
              "      <td>-1.644401</td>\n",
              "      <td>-1.118863</td>\n",
              "      <td>0.202647</td>\n",
              "      <td>1.145965</td>\n",
              "      <td>-1.802360</td>\n",
              "      <td>-0.247178</td>\n",
              "      <td>-0.060945</td>\n",
              "      <td>0.846606</td>\n",
              "      <td>0.379454</td>\n",
              "      <td>0.847262</td>\n",
              "      <td>0.186409</td>\n",
              "      <td>-0.207098</td>\n",
              "      <td>-0.433890</td>\n",
              "      <td>-0.261613</td>\n",
              "      <td>-0.046651</td>\n",
              "      <td>0.211512</td>\n",
              "      <td>0.008297</td>\n",
              "      <td>0.108494</td>\n",
              "      <td>0.161139</td>\n",
              "      <td>0</td>\n",
              "      <td>0.658372</td>\n",
              "      <td>-0.177738</td>\n",
              "    </tr>\n",
              "    <tr>\n",
              "      <th>255448</th>\n",
              "      <td>-0.349718</td>\n",
              "      <td>0.932619</td>\n",
              "      <td>0.142992</td>\n",
              "      <td>-0.657071</td>\n",
              "      <td>1.169784</td>\n",
              "      <td>-0.733369</td>\n",
              "      <td>1.009985</td>\n",
              "      <td>-0.071069</td>\n",
              "      <td>-0.302083</td>\n",
              "      <td>-1.192404</td>\n",
              "      <td>-0.854776</td>\n",
              "      <td>-0.620458</td>\n",
              "      <td>-0.806471</td>\n",
              "      <td>-0.770837</td>\n",
              "      <td>-0.108158</td>\n",
              "      <td>0.258964</td>\n",
              "      <td>0.492095</td>\n",
              "      <td>-0.148516</td>\n",
              "      <td>-0.148099</td>\n",
              "      <td>-0.096502</td>\n",
              "      <td>-0.271537</td>\n",
              "      <td>-0.833209</td>\n",
              "      <td>-0.030360</td>\n",
              "      <td>0.490035</td>\n",
              "      <td>-0.404816</td>\n",
              "      <td>0.134350</td>\n",
              "      <td>0.076830</td>\n",
              "      <td>0.175562</td>\n",
              "      <td>0</td>\n",
              "      <td>1.320094</td>\n",
              "      <td>-0.321945</td>\n",
              "    </tr>\n",
              "    <tr>\n",
              "      <th>244749</th>\n",
              "      <td>-1.614711</td>\n",
              "      <td>-2.406570</td>\n",
              "      <td>0.326194</td>\n",
              "      <td>0.665520</td>\n",
              "      <td>2.369268</td>\n",
              "      <td>-1.775367</td>\n",
              "      <td>-1.139049</td>\n",
              "      <td>0.329904</td>\n",
              "      <td>0.903813</td>\n",
              "      <td>-0.219013</td>\n",
              "      <td>-1.726259</td>\n",
              "      <td>-0.736771</td>\n",
              "      <td>-1.516835</td>\n",
              "      <td>0.348343</td>\n",
              "      <td>0.041437</td>\n",
              "      <td>0.732681</td>\n",
              "      <td>-1.136766</td>\n",
              "      <td>0.816653</td>\n",
              "      <td>-1.578951</td>\n",
              "      <td>0.419835</td>\n",
              "      <td>0.701399</td>\n",
              "      <td>1.134489</td>\n",
              "      <td>0.965054</td>\n",
              "      <td>0.640981</td>\n",
              "      <td>-1.801998</td>\n",
              "      <td>-1.041114</td>\n",
              "      <td>0.286285</td>\n",
              "      <td>0.437322</td>\n",
              "      <td>0</td>\n",
              "      <td>1.219742</td>\n",
              "      <td>0.034666</td>\n",
              "    </tr>\n",
              "    <tr>\n",
              "      <th>63919</th>\n",
              "      <td>-2.477184</td>\n",
              "      <td>0.860613</td>\n",
              "      <td>1.441850</td>\n",
              "      <td>1.051019</td>\n",
              "      <td>-1.856621</td>\n",
              "      <td>2.078384</td>\n",
              "      <td>0.510828</td>\n",
              "      <td>-0.243399</td>\n",
              "      <td>-0.260691</td>\n",
              "      <td>0.133040</td>\n",
              "      <td>1.551682</td>\n",
              "      <td>0.435125</td>\n",
              "      <td>-0.336022</td>\n",
              "      <td>0.278965</td>\n",
              "      <td>1.812232</td>\n",
              "      <td>0.080001</td>\n",
              "      <td>0.116347</td>\n",
              "      <td>0.291818</td>\n",
              "      <td>0.106228</td>\n",
              "      <td>-0.987790</td>\n",
              "      <td>0.810408</td>\n",
              "      <td>0.692245</td>\n",
              "      <td>0.150121</td>\n",
              "      <td>-0.260777</td>\n",
              "      <td>0.005183</td>\n",
              "      <td>-0.177847</td>\n",
              "      <td>-0.510060</td>\n",
              "      <td>-0.660533</td>\n",
              "      <td>0</td>\n",
              "      <td>-0.919236</td>\n",
              "      <td>0.838765</td>\n",
              "    </tr>\n",
              "    <tr>\n",
              "      <th>11475</th>\n",
              "      <td>1.338831</td>\n",
              "      <td>-0.547264</td>\n",
              "      <td>0.737389</td>\n",
              "      <td>-0.212383</td>\n",
              "      <td>-1.110039</td>\n",
              "      <td>-0.525744</td>\n",
              "      <td>-0.801403</td>\n",
              "      <td>-0.063672</td>\n",
              "      <td>0.997276</td>\n",
              "      <td>0.113386</td>\n",
              "      <td>0.664531</td>\n",
              "      <td>-3.282511</td>\n",
              "      <td>0.409266</td>\n",
              "      <td>1.252202</td>\n",
              "      <td>-0.868774</td>\n",
              "      <td>0.214387</td>\n",
              "      <td>1.878003</td>\n",
              "      <td>-1.906559</td>\n",
              "      <td>0.263854</td>\n",
              "      <td>-0.126871</td>\n",
              "      <td>-0.139436</td>\n",
              "      <td>-0.074719</td>\n",
              "      <td>0.067055</td>\n",
              "      <td>0.333122</td>\n",
              "      <td>0.379087</td>\n",
              "      <td>-0.268706</td>\n",
              "      <td>-0.002769</td>\n",
              "      <td>0.003272</td>\n",
              "      <td>0</td>\n",
              "      <td>-1.572827</td>\n",
              "      <td>-0.310490</td>\n",
              "    </tr>\n",
              "  </tbody>\n",
              "</table>\n",
              "</div>"
            ],
            "text/plain": [
              "              V1        V2        V3  ...  Class      time    amount\n",
              "183484 -0.323334  1.057455 -0.048341  ...      0  0.658372 -0.177738\n",
              "255448 -0.349718  0.932619  0.142992  ...      0  1.320094 -0.321945\n",
              "244749 -1.614711 -2.406570  0.326194  ...      0  1.219742  0.034666\n",
              "63919  -2.477184  0.860613  1.441850  ...      0 -0.919236  0.838765\n",
              "11475   1.338831 -0.547264  0.737389  ...      0 -1.572827 -0.310490\n",
              "\n",
              "[5 rows x 31 columns]"
            ]
          },
          "metadata": {},
          "execution_count": 38
        }
      ]
    },
    {
      "cell_type": "markdown",
      "metadata": {
        "id": "yQWRjsqfG5Kd"
      },
      "source": [
        "Com o conjunto de testes normalizado vamos separar X e Y para que possamos realizar as previsões."
      ]
    },
    {
      "cell_type": "code",
      "metadata": {
        "id": "HwdtpGv1HKym"
      },
      "source": [
        "# separar X e y\n",
        "X_test = test_clean.drop('Class', axis=1)\n",
        "y_test = test_clean['Class']"
      ],
      "execution_count": 39,
      "outputs": []
    },
    {
      "cell_type": "code",
      "metadata": {
        "id": "KjwmLS4EHgmp"
      },
      "source": [
        "# fazer previsões\n",
        "y_pred_test = model_reg_rus.predict(X_test)\n",
        "y_proba_test = model_reg_rus.predict_proba(X_test)"
      ],
      "execution_count": 40,
      "outputs": []
    },
    {
      "cell_type": "markdown",
      "metadata": {
        "id": "-U-c5ZjNHVwN"
      },
      "source": [
        "Por fim vamos ver o desempenho do nosso modelo para dados desconhecidos."
      ]
    },
    {
      "cell_type": "code",
      "metadata": {
        "colab": {
          "base_uri": "https://localhost:8080/",
          "height": 501
        },
        "id": "B91Ug1SwH0Jt",
        "outputId": "f749f069-3464-4c34-d9e1-6ac2c2e400b5"
      },
      "source": [
        "# avaliando o desempenho do modelo com dados desconhecidos\n",
        "print(f'Relatório de classificação:\\n{classification_report(y_test, y_pred_test, digits=4)}')\n",
        "\n",
        "# avaliando AUC do modelo\n",
        "print(\"AUC ROC: {:.4f}\\n\".format(roc_auc_score(y_test, y_pred_test)))\n",
        "\n",
        "# matriz de confusão\n",
        "fig, ax = plt.subplots()\n",
        "\n",
        "sns.heatmap(confusion_matrix(y_test, y_pred_test, normalize='true'), cmap='Blues', annot=True, ax=ax)\n",
        "\n",
        "ax.set_ylabel(\"Valores reais\")\n",
        "ax.set_xlabel(\"Valores previstos\")\n",
        "\n",
        "plt.tight_layout()"
      ],
      "execution_count": 41,
      "outputs": [
        {
          "output_type": "stream",
          "name": "stdout",
          "text": [
            "Relatório de classificação:\n",
            "              precision    recall  f1-score   support\n",
            "\n",
            "           0     0.9999    0.9701    0.9848     42647\n",
            "           1     0.0513    0.9324    0.0973        74\n",
            "\n",
            "    accuracy                         0.9700     42721\n",
            "   macro avg     0.5256    0.9513    0.5410     42721\n",
            "weighted avg     0.9982    0.9700    0.9832     42721\n",
            "\n",
            "AUC ROC: 0.9513\n",
            "\n"
          ]
        },
        {
          "output_type": "display_data",
          "data": {
            "image/png": "[encoded data removed]",
            "text/plain": [
              "<Figure size 432x288 with 2 Axes>"
            ]
          },
          "metadata": {}
        }
      ]
    },
    {
      "cell_type": "markdown",
      "metadata": {
        "id": "7tQMGi33H_UO"
      },
      "source": [
        "Notamos um desempenho similar com o apresentado em nosso conjunto de validação, portanto nosso modelo é, aparentemente, genérico o suficiente para dados desconhecidos."
      ]
    },
    {
      "cell_type": "markdown",
      "metadata": {
        "id": "0Bj7zRZMSfO7"
      },
      "source": [
        "## Conclusão\n",
        "\n",
        "Nessa análise comparamos o desempenho de dois modelos de classificação baseados em algoritmos diferentes - Regressão Logística e Árvore de Decisão - aplicados ao cenário de detecção de fraudes em transações de cartão de crédito utilizando um mesmo conjunto de dados.\n",
        "\n",
        "Com exceção do parâmetro `criterion` da árvore de decisão, ambos os modelos foram treinados utilizando os parâmetros padrão.\n",
        "\n",
        "Se considerarmos apenas o `recall` (que representa a taxa de detecções de fraude realizadas corretamente) e o `AUC ROC` podemos resumir nossa comparação na tabela abaixo:\n",
        "\n",
        "<table>\n",
        "  <caption>Comparativo de desempenho dos Modelos</captio>\n",
        "  <thead>\n",
        "    <tr>\n",
        "      <th>Modelo</th>\n",
        "      <th>Dataset</th>\n",
        "      <th>AUC ROC</th>\n",
        "      <th>Recall</th>\n",
        "    </tr>\n",
        "  </thead>\n",
        "  <tbody>\n",
        "    <tr>\n",
        "      <td>Regressão Logística</td>\n",
        "      <td>Desbalanceado</td>\n",
        "      <td>84.75%</td>\n",
        "      <td>69.52%</td>\n",
        "    </tr>\n",
        "      <tr>\n",
        "      <td>Regressão Logística</td>\n",
        "      <td>Balanceados Under-Sampling</td>\n",
        "      <td>94.15%</td>\n",
        "      <td>91.43%</td>\n",
        "    </tr>\n",
        "      <tr>\n",
        "      <td>Regressão Logística</td>\n",
        "      <td>Balanceado Over-Sampling</td>\n",
        "      <td>93.62%</td>\n",
        "      <td>89.52%</td>\n",
        "    </tr>\n",
        "      <tr>\n",
        "      <td>Árvore de Decisão</td>\n",
        "      <td>Desbalanceado</td>\n",
        "      <td>90.45%</td>\n",
        "      <td>80.95%</td>\n",
        "    </tr>\n",
        "      <tr>\n",
        "      <td>Árvore de Decisão</td>\n",
        "      <td>Balanceado Under-Sampling</td>\n",
        "      <td>88.81%</td>\n",
        "      <td>90.48%</td>\n",
        "    </tr>\n",
        "      <tr>\n",
        "      <td>Árvore de Decisão</td>\n",
        "      <td>Balanceado Over-Sampling</td>\n",
        "      <td>88.54%</td>\n",
        "      <td>77.14%</td>\n",
        "    </tr>\n",
        "  </tbody>\n",
        "</table>\n",
        "\n",
        "\n",
        "A tabela acima nos revela algumas características importantes com relação ao nosso cenário (problema e dados):\n",
        "1. O algoritmo de regressão logística apresentou melhor desempenho com o *dataset* balanceado através da técnica de *under-sampling* (com um menor volume de amostras).\n",
        "2. O algoritmo de árvore de decisão apresentou melhor desempenho em relação a taxa de acertos de transações fraudulentas (`recall`), quando treinado utilizando *dataset* balanceado com *under-sampling* (menor volume de amostras).\n",
        "\n",
        "No cenário de detecção de fraudes em cartão de crédito esperamos obter: menor número de falsos positivos (melhor experiência do cliente) e menor número de falsos negativos (mais segurança tanto para a instituição quanto para o cliente), logo, o modelo recomendado para esse cenário é o de **Regressão Logística** treinado com o dataset balanceado com *under-sampling*.\n",
        "\n",
        "Como a divisão dos conjuntos é realizada de maneira aleatória, execuções sucessivas deste projeto poderão apresentar resultados númericos diferente, no entanto em todas as execuções realizadas o mesmo modelo foi o que apresentou melhores resultados.\n",
        "\n",
        "Essa análise também nos mostrou que, apenas com a realização do tratamento adequado nos dados é foi possível melhorar o desempenho de modelos de Machine Learning, dispensando a necessidade de desenvolver um novo algoritmo ou realizar ajustes finos para atingir resultados satisfatórios. No entanto com um bom tunning nos parâmetros, aliado a um bom conjunto de dados é possível obtermos modelos cada vez melhores e mais precisos."
      ]
    },
    {
      "cell_type": "code",
      "metadata": {
        "id": "iYqv4L0gA8xV"
      },
      "source": [
        ""
      ],
      "execution_count": null,
      "outputs": []
    }
  ]
}